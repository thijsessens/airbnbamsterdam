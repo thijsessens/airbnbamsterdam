{
 "cells": [
  {
   "cell_type": "markdown",
   "execution_count": null,
   "metadata": {},
   "source": [
    "# Notebook on Predicting Amsterdam Airbnb listing price"
   ]
  },
  {
   "cell_type": "markdown",
   "execution_count": null,
   "metadata": {},
   "source": [
    "Opinions are my own.\n",
    "\n",
    "This notebook has served as a playing ground for me to explore the Airbnb Amsterdam data and try to predict listing prices through several different methods, including:\n",
    "\n",
    "* Linear Regression\n",
    "* Random Forrest Regression\n",
    "* OLS\n",
    "* H2O Auto ML\n"
   ]
  },
  {
   "cell_type": "markdown",
   "execution_count": null,
   "metadata": {},
   "source": [
    "## Getting up and running\n",
    "Import all the libaries"
   ]
  },
  {
   "cell_type": "code",
   "execution_count": 1,
   "metadata": {
    "_cell_guid": "79c7e3d0-c299-4dcb-8224-4455121ee9b0",
    "_uuid": "d629ff2d2480ee46fbb7e2d37f6b5fab8052498a"
   },
   "outputs": [],
   "source": [
    "# Import all the necessary libraries \n",
    "\n",
    "# commonly used libraries\n",
    "import numpy as np\n",
    "import pandas as pd\n",
    "import matplotlib.pyplot as plt\n",
    "%matplotlib inline\n",
    "\n",
    "# visualization library\n",
    "import seaborn as sns\n",
    "\n",
    "# data manipulation utility libraries\n",
    "import distutils\n",
    "import datetime\n",
    "import re\n",
    "\n",
    "# sklearn libraries\n",
    "from sklearn.linear_model import LinearRegression\n",
    "from sklearn.preprocessing import PolynomialFeatures\n",
    "from sklearn import metrics\n",
    "from sklearn.model_selection import train_test_split\n",
    "from sklearn.metrics import r2_score, mean_squared_error\n",
    "\n",
    "# stats library\n",
    "from scipy import stats\n",
    "from scipy.stats import boxcox\n",
    "\n",
    "\n"
   ]
  },
  {
   "cell_type": "code",
   "execution_count": 2,
   "metadata": {},
   "outputs": [
    {
     "name": "stderr",
     "output_type": "stream",
     "text": [
      "/opt/conda/lib/python3.7/site-packages/IPython/core/interactiveshell.py:3063: DtypeWarning: Columns (87) have mixed types.Specify dtype option on import or set low_memory=False.\n",
      "  interactivity=interactivity, compiler=compiler, result=result)\n"
     ]
    }
   ],
   "source": [
    "# Import the data\n",
    "df = pd.read_csv('../input/airbnb-amsterdam/listings_details.csv')"
   ]
  },
  {
   "cell_type": "markdown",
   "execution_count": null,
   "metadata": {},
   "source": [
    "# Data exploration"
   ]
  },
  {
   "cell_type": "code",
   "execution_count": 3,
   "metadata": {},
   "outputs": [
    {
     "data": {
      "text/html": [
       "<div>\n",
       "<style scoped>\n",
       "    .dataframe tbody tr th:only-of-type {\n",
       "        vertical-align: middle;\n",
       "    }\n",
       "\n",
       "    .dataframe tbody tr th {\n",
       "        vertical-align: top;\n",
       "    }\n",
       "\n",
       "    .dataframe thead th {\n",
       "        text-align: right;\n",
       "    }\n",
       "</style>\n",
       "<table border=\"1\" class=\"dataframe\">\n",
       "  <thead>\n",
       "    <tr style=\"text-align: right;\">\n",
       "      <th></th>\n",
       "      <th>id</th>\n",
       "      <th>listing_url</th>\n",
       "      <th>scrape_id</th>\n",
       "      <th>last_scraped</th>\n",
       "      <th>name</th>\n",
       "      <th>summary</th>\n",
       "      <th>space</th>\n",
       "      <th>description</th>\n",
       "      <th>experiences_offered</th>\n",
       "      <th>neighborhood_overview</th>\n",
       "      <th>...</th>\n",
       "      <th>requires_license</th>\n",
       "      <th>license</th>\n",
       "      <th>jurisdiction_names</th>\n",
       "      <th>instant_bookable</th>\n",
       "      <th>is_business_travel_ready</th>\n",
       "      <th>cancellation_policy</th>\n",
       "      <th>require_guest_profile_picture</th>\n",
       "      <th>require_guest_phone_verification</th>\n",
       "      <th>calculated_host_listings_count</th>\n",
       "      <th>reviews_per_month</th>\n",
       "    </tr>\n",
       "  </thead>\n",
       "  <tbody>\n",
       "    <tr>\n",
       "      <th>0</th>\n",
       "      <td>2818</td>\n",
       "      <td>https://www.airbnb.com/rooms/2818</td>\n",
       "      <td>20181206172549</td>\n",
       "      <td>2018-12-06</td>\n",
       "      <td>Quiet Garden View Room &amp; Super Fast WiFi</td>\n",
       "      <td>Quiet Garden View Room &amp; Super Fast WiFi</td>\n",
       "      <td>I'm renting a bedroom (room overlooking the ga...</td>\n",
       "      <td>Quiet Garden View Room &amp; Super Fast WiFi I'm r...</td>\n",
       "      <td>none</td>\n",
       "      <td>Indische Buurt (\"Indies Neighborhood\") is a ne...</td>\n",
       "      <td>...</td>\n",
       "      <td>f</td>\n",
       "      <td>NaN</td>\n",
       "      <td>{Amsterdam}</td>\n",
       "      <td>t</td>\n",
       "      <td>f</td>\n",
       "      <td>strict_14_with_grace_period</td>\n",
       "      <td>f</td>\n",
       "      <td>f</td>\n",
       "      <td>1</td>\n",
       "      <td>2.10</td>\n",
       "    </tr>\n",
       "    <tr>\n",
       "      <th>1</th>\n",
       "      <td>3209</td>\n",
       "      <td>https://www.airbnb.com/rooms/3209</td>\n",
       "      <td>20181206172549</td>\n",
       "      <td>2018-12-06</td>\n",
       "      <td>Quiet apt near center, great view</td>\n",
       "      <td>You will love our spacious (90 m2) bright apar...</td>\n",
       "      <td>Our apartment has lots of light, a balcony and...</td>\n",
       "      <td>You will love our spacious (90 m2) bright apar...</td>\n",
       "      <td>none</td>\n",
       "      <td>Welcome to the Spaarndammerbuurt! From the beg...</td>\n",
       "      <td>...</td>\n",
       "      <td>f</td>\n",
       "      <td>NaN</td>\n",
       "      <td>{Amsterdam}</td>\n",
       "      <td>f</td>\n",
       "      <td>f</td>\n",
       "      <td>moderate</td>\n",
       "      <td>f</td>\n",
       "      <td>f</td>\n",
       "      <td>1</td>\n",
       "      <td>1.03</td>\n",
       "    </tr>\n",
       "    <tr>\n",
       "      <th>2</th>\n",
       "      <td>20168</td>\n",
       "      <td>https://www.airbnb.com/rooms/20168</td>\n",
       "      <td>20181206172549</td>\n",
       "      <td>2018-12-06</td>\n",
       "      <td>100%Centre-Studio 1 Private Floor/Bathroom</td>\n",
       "      <td>Cozy studio on your own private floor, 100% in...</td>\n",
       "      <td>For those who like all facets of city life. In...</td>\n",
       "      <td>Cozy studio on your own private floor, 100% in...</td>\n",
       "      <td>none</td>\n",
       "      <td>Located just in between famous central canals....</td>\n",
       "      <td>...</td>\n",
       "      <td>f</td>\n",
       "      <td>NaN</td>\n",
       "      <td>{Amsterdam}</td>\n",
       "      <td>f</td>\n",
       "      <td>f</td>\n",
       "      <td>strict_14_with_grace_period</td>\n",
       "      <td>f</td>\n",
       "      <td>f</td>\n",
       "      <td>2</td>\n",
       "      <td>2.18</td>\n",
       "    </tr>\n",
       "    <tr>\n",
       "      <th>3</th>\n",
       "      <td>25428</td>\n",
       "      <td>https://www.airbnb.com/rooms/25428</td>\n",
       "      <td>20181206172549</td>\n",
       "      <td>2018-12-06</td>\n",
       "      <td>Lovely apt in City Centre (Jordaan)</td>\n",
       "      <td>NaN</td>\n",
       "      <td>This nicely furnished, newly renovated apt  is...</td>\n",
       "      <td>This nicely furnished, newly renovated apt  is...</td>\n",
       "      <td>none</td>\n",
       "      <td>NaN</td>\n",
       "      <td>...</td>\n",
       "      <td>f</td>\n",
       "      <td>NaN</td>\n",
       "      <td>{Amsterdam}</td>\n",
       "      <td>f</td>\n",
       "      <td>f</td>\n",
       "      <td>strict_14_with_grace_period</td>\n",
       "      <td>f</td>\n",
       "      <td>f</td>\n",
       "      <td>2</td>\n",
       "      <td>0.09</td>\n",
       "    </tr>\n",
       "    <tr>\n",
       "      <th>4</th>\n",
       "      <td>27886</td>\n",
       "      <td>https://www.airbnb.com/rooms/27886</td>\n",
       "      <td>20181206172549</td>\n",
       "      <td>2018-12-06</td>\n",
       "      <td>Romantic, stylish B&amp;B houseboat in canal district</td>\n",
       "      <td>Stylish and romantic houseboat on fantastic hi...</td>\n",
       "      <td>For a romantic couple: A beautifully restored ...</td>\n",
       "      <td>Stylish and romantic houseboat on fantastic hi...</td>\n",
       "      <td>none</td>\n",
       "      <td>Central, quiet, safe, clean and beautiful.</td>\n",
       "      <td>...</td>\n",
       "      <td>f</td>\n",
       "      <td>NaN</td>\n",
       "      <td>{Amsterdam}</td>\n",
       "      <td>t</td>\n",
       "      <td>f</td>\n",
       "      <td>strict_14_with_grace_period</td>\n",
       "      <td>f</td>\n",
       "      <td>f</td>\n",
       "      <td>1</td>\n",
       "      <td>2.03</td>\n",
       "    </tr>\n",
       "  </tbody>\n",
       "</table>\n",
       "<p>5 rows × 96 columns</p>\n",
       "</div>"
      ],
      "text/plain": [
       "      id                         listing_url       scrape_id last_scraped  \\\n",
       "0   2818   https://www.airbnb.com/rooms/2818  20181206172549   2018-12-06   \n",
       "1   3209   https://www.airbnb.com/rooms/3209  20181206172549   2018-12-06   \n",
       "2  20168  https://www.airbnb.com/rooms/20168  20181206172549   2018-12-06   \n",
       "3  25428  https://www.airbnb.com/rooms/25428  20181206172549   2018-12-06   \n",
       "4  27886  https://www.airbnb.com/rooms/27886  20181206172549   2018-12-06   \n",
       "\n",
       "                                                name  \\\n",
       "0           Quiet Garden View Room & Super Fast WiFi   \n",
       "1                  Quiet apt near center, great view   \n",
       "2         100%Centre-Studio 1 Private Floor/Bathroom   \n",
       "3                Lovely apt in City Centre (Jordaan)   \n",
       "4  Romantic, stylish B&B houseboat in canal district   \n",
       "\n",
       "                                             summary  \\\n",
       "0           Quiet Garden View Room & Super Fast WiFi   \n",
       "1  You will love our spacious (90 m2) bright apar...   \n",
       "2  Cozy studio on your own private floor, 100% in...   \n",
       "3                                                NaN   \n",
       "4  Stylish and romantic houseboat on fantastic hi...   \n",
       "\n",
       "                                               space  \\\n",
       "0  I'm renting a bedroom (room overlooking the ga...   \n",
       "1  Our apartment has lots of light, a balcony and...   \n",
       "2  For those who like all facets of city life. In...   \n",
       "3  This nicely furnished, newly renovated apt  is...   \n",
       "4  For a romantic couple: A beautifully restored ...   \n",
       "\n",
       "                                         description experiences_offered  \\\n",
       "0  Quiet Garden View Room & Super Fast WiFi I'm r...                none   \n",
       "1  You will love our spacious (90 m2) bright apar...                none   \n",
       "2  Cozy studio on your own private floor, 100% in...                none   \n",
       "3  This nicely furnished, newly renovated apt  is...                none   \n",
       "4  Stylish and romantic houseboat on fantastic hi...                none   \n",
       "\n",
       "                               neighborhood_overview  ... requires_license  \\\n",
       "0  Indische Buurt (\"Indies Neighborhood\") is a ne...  ...                f   \n",
       "1  Welcome to the Spaarndammerbuurt! From the beg...  ...                f   \n",
       "2  Located just in between famous central canals....  ...                f   \n",
       "3                                                NaN  ...                f   \n",
       "4         Central, quiet, safe, clean and beautiful.  ...                f   \n",
       "\n",
       "  license jurisdiction_names instant_bookable is_business_travel_ready  \\\n",
       "0     NaN        {Amsterdam}                t                        f   \n",
       "1     NaN        {Amsterdam}                f                        f   \n",
       "2     NaN        {Amsterdam}                f                        f   \n",
       "3     NaN        {Amsterdam}                f                        f   \n",
       "4     NaN        {Amsterdam}                t                        f   \n",
       "\n",
       "           cancellation_policy  require_guest_profile_picture  \\\n",
       "0  strict_14_with_grace_period                              f   \n",
       "1                     moderate                              f   \n",
       "2  strict_14_with_grace_period                              f   \n",
       "3  strict_14_with_grace_period                              f   \n",
       "4  strict_14_with_grace_period                              f   \n",
       "\n",
       "  require_guest_phone_verification  calculated_host_listings_count  \\\n",
       "0                                f                               1   \n",
       "1                                f                               1   \n",
       "2                                f                               2   \n",
       "3                                f                               2   \n",
       "4                                f                               1   \n",
       "\n",
       "   reviews_per_month  \n",
       "0               2.10  \n",
       "1               1.03  \n",
       "2               2.18  \n",
       "3               0.09  \n",
       "4               2.03  \n",
       "\n",
       "[5 rows x 96 columns]"
      ]
     },
     "execution_count": 3,
     "metadata": {},
     "output_type": "execute_result"
    }
   ],
   "source": [
    "#Look at top rows of dataframe\n",
    "df.head()\n"
   ]
  },
  {
   "cell_type": "code",
   "execution_count": 4,
   "metadata": {},
   "outputs": [
    {
     "data": {
      "text/html": [
       "<div>\n",
       "<style scoped>\n",
       "    .dataframe tbody tr th:only-of-type {\n",
       "        vertical-align: middle;\n",
       "    }\n",
       "\n",
       "    .dataframe tbody tr th {\n",
       "        vertical-align: top;\n",
       "    }\n",
       "\n",
       "    .dataframe thead th {\n",
       "        text-align: right;\n",
       "    }\n",
       "</style>\n",
       "<table border=\"1\" class=\"dataframe\">\n",
       "  <thead>\n",
       "    <tr style=\"text-align: right;\">\n",
       "      <th></th>\n",
       "      <th>id</th>\n",
       "      <th>scrape_id</th>\n",
       "      <th>thumbnail_url</th>\n",
       "      <th>medium_url</th>\n",
       "      <th>xl_picture_url</th>\n",
       "      <th>host_id</th>\n",
       "      <th>host_acceptance_rate</th>\n",
       "      <th>host_listings_count</th>\n",
       "      <th>host_total_listings_count</th>\n",
       "      <th>neighbourhood_group_cleansed</th>\n",
       "      <th>...</th>\n",
       "      <th>number_of_reviews</th>\n",
       "      <th>review_scores_rating</th>\n",
       "      <th>review_scores_accuracy</th>\n",
       "      <th>review_scores_cleanliness</th>\n",
       "      <th>review_scores_checkin</th>\n",
       "      <th>review_scores_communication</th>\n",
       "      <th>review_scores_location</th>\n",
       "      <th>review_scores_value</th>\n",
       "      <th>calculated_host_listings_count</th>\n",
       "      <th>reviews_per_month</th>\n",
       "    </tr>\n",
       "  </thead>\n",
       "  <tbody>\n",
       "    <tr>\n",
       "      <th>count</th>\n",
       "      <td>2.003000e+04</td>\n",
       "      <td>2.003000e+04</td>\n",
       "      <td>0.0</td>\n",
       "      <td>0.0</td>\n",
       "      <td>0.0</td>\n",
       "      <td>2.003000e+04</td>\n",
       "      <td>0.0</td>\n",
       "      <td>20026.000000</td>\n",
       "      <td>20026.000000</td>\n",
       "      <td>0.0</td>\n",
       "      <td>...</td>\n",
       "      <td>20030.000000</td>\n",
       "      <td>17391.000000</td>\n",
       "      <td>17381.000000</td>\n",
       "      <td>17383.000000</td>\n",
       "      <td>17369.000000</td>\n",
       "      <td>17378.000000</td>\n",
       "      <td>17370.000000</td>\n",
       "      <td>17371.000000</td>\n",
       "      <td>20030.000000</td>\n",
       "      <td>17624.00000</td>\n",
       "    </tr>\n",
       "    <tr>\n",
       "      <th>mean</th>\n",
       "      <td>1.541725e+07</td>\n",
       "      <td>2.018121e+13</td>\n",
       "      <td>NaN</td>\n",
       "      <td>NaN</td>\n",
       "      <td>NaN</td>\n",
       "      <td>4.868570e+07</td>\n",
       "      <td>NaN</td>\n",
       "      <td>6.105812</td>\n",
       "      <td>6.105812</td>\n",
       "      <td>NaN</td>\n",
       "      <td>...</td>\n",
       "      <td>21.560459</td>\n",
       "      <td>94.849520</td>\n",
       "      <td>9.679765</td>\n",
       "      <td>9.465627</td>\n",
       "      <td>9.735563</td>\n",
       "      <td>9.785361</td>\n",
       "      <td>9.421531</td>\n",
       "      <td>9.175004</td>\n",
       "      <td>4.734698</td>\n",
       "      <td>1.06208</td>\n",
       "    </tr>\n",
       "    <tr>\n",
       "      <th>std</th>\n",
       "      <td>8.569404e+06</td>\n",
       "      <td>3.906348e+00</td>\n",
       "      <td>NaN</td>\n",
       "      <td>NaN</td>\n",
       "      <td>NaN</td>\n",
       "      <td>5.649635e+07</td>\n",
       "      <td>NaN</td>\n",
       "      <td>30.388516</td>\n",
       "      <td>30.388516</td>\n",
       "      <td>NaN</td>\n",
       "      <td>...</td>\n",
       "      <td>43.240292</td>\n",
       "      <td>6.648685</td>\n",
       "      <td>0.685271</td>\n",
       "      <td>0.867973</td>\n",
       "      <td>0.646557</td>\n",
       "      <td>0.599409</td>\n",
       "      <td>0.727931</td>\n",
       "      <td>0.805422</td>\n",
       "      <td>22.921886</td>\n",
       "      <td>1.33332</td>\n",
       "    </tr>\n",
       "    <tr>\n",
       "      <th>min</th>\n",
       "      <td>2.818000e+03</td>\n",
       "      <td>2.018121e+13</td>\n",
       "      <td>NaN</td>\n",
       "      <td>NaN</td>\n",
       "      <td>NaN</td>\n",
       "      <td>3.159000e+03</td>\n",
       "      <td>NaN</td>\n",
       "      <td>0.000000</td>\n",
       "      <td>0.000000</td>\n",
       "      <td>NaN</td>\n",
       "      <td>...</td>\n",
       "      <td>0.000000</td>\n",
       "      <td>20.000000</td>\n",
       "      <td>2.000000</td>\n",
       "      <td>2.000000</td>\n",
       "      <td>2.000000</td>\n",
       "      <td>2.000000</td>\n",
       "      <td>2.000000</td>\n",
       "      <td>2.000000</td>\n",
       "      <td>1.000000</td>\n",
       "      <td>0.01000</td>\n",
       "    </tr>\n",
       "    <tr>\n",
       "      <th>25%</th>\n",
       "      <td>8.188423e+06</td>\n",
       "      <td>2.018121e+13</td>\n",
       "      <td>NaN</td>\n",
       "      <td>NaN</td>\n",
       "      <td>NaN</td>\n",
       "      <td>8.093516e+06</td>\n",
       "      <td>NaN</td>\n",
       "      <td>1.000000</td>\n",
       "      <td>1.000000</td>\n",
       "      <td>NaN</td>\n",
       "      <td>...</td>\n",
       "      <td>3.000000</td>\n",
       "      <td>93.000000</td>\n",
       "      <td>9.000000</td>\n",
       "      <td>9.000000</td>\n",
       "      <td>10.000000</td>\n",
       "      <td>10.000000</td>\n",
       "      <td>9.000000</td>\n",
       "      <td>9.000000</td>\n",
       "      <td>1.000000</td>\n",
       "      <td>0.27000</td>\n",
       "    </tr>\n",
       "    <tr>\n",
       "      <th>50%</th>\n",
       "      <td>1.563049e+07</td>\n",
       "      <td>2.018121e+13</td>\n",
       "      <td>NaN</td>\n",
       "      <td>NaN</td>\n",
       "      <td>NaN</td>\n",
       "      <td>2.369450e+07</td>\n",
       "      <td>NaN</td>\n",
       "      <td>1.000000</td>\n",
       "      <td>1.000000</td>\n",
       "      <td>NaN</td>\n",
       "      <td>...</td>\n",
       "      <td>8.000000</td>\n",
       "      <td>97.000000</td>\n",
       "      <td>10.000000</td>\n",
       "      <td>10.000000</td>\n",
       "      <td>10.000000</td>\n",
       "      <td>10.000000</td>\n",
       "      <td>10.000000</td>\n",
       "      <td>9.000000</td>\n",
       "      <td>1.000000</td>\n",
       "      <td>0.62000</td>\n",
       "    </tr>\n",
       "    <tr>\n",
       "      <th>75%</th>\n",
       "      <td>2.202577e+07</td>\n",
       "      <td>2.018121e+13</td>\n",
       "      <td>NaN</td>\n",
       "      <td>NaN</td>\n",
       "      <td>NaN</td>\n",
       "      <td>6.827535e+07</td>\n",
       "      <td>NaN</td>\n",
       "      <td>1.000000</td>\n",
       "      <td>1.000000</td>\n",
       "      <td>NaN</td>\n",
       "      <td>...</td>\n",
       "      <td>22.000000</td>\n",
       "      <td>100.000000</td>\n",
       "      <td>10.000000</td>\n",
       "      <td>10.000000</td>\n",
       "      <td>10.000000</td>\n",
       "      <td>10.000000</td>\n",
       "      <td>10.000000</td>\n",
       "      <td>10.000000</td>\n",
       "      <td>1.000000</td>\n",
       "      <td>1.23000</td>\n",
       "    </tr>\n",
       "    <tr>\n",
       "      <th>max</th>\n",
       "      <td>3.058041e+07</td>\n",
       "      <td>2.018121e+13</td>\n",
       "      <td>NaN</td>\n",
       "      <td>NaN</td>\n",
       "      <td>NaN</td>\n",
       "      <td>2.293612e+08</td>\n",
       "      <td>NaN</td>\n",
       "      <td>698.000000</td>\n",
       "      <td>698.000000</td>\n",
       "      <td>NaN</td>\n",
       "      <td>...</td>\n",
       "      <td>695.000000</td>\n",
       "      <td>100.000000</td>\n",
       "      <td>10.000000</td>\n",
       "      <td>10.000000</td>\n",
       "      <td>10.000000</td>\n",
       "      <td>10.000000</td>\n",
       "      <td>10.000000</td>\n",
       "      <td>10.000000</td>\n",
       "      <td>208.000000</td>\n",
       "      <td>11.85000</td>\n",
       "    </tr>\n",
       "  </tbody>\n",
       "</table>\n",
       "<p>8 rows × 34 columns</p>\n",
       "</div>"
      ],
      "text/plain": [
       "                 id     scrape_id  thumbnail_url  medium_url  xl_picture_url  \\\n",
       "count  2.003000e+04  2.003000e+04            0.0         0.0             0.0   \n",
       "mean   1.541725e+07  2.018121e+13            NaN         NaN             NaN   \n",
       "std    8.569404e+06  3.906348e+00            NaN         NaN             NaN   \n",
       "min    2.818000e+03  2.018121e+13            NaN         NaN             NaN   \n",
       "25%    8.188423e+06  2.018121e+13            NaN         NaN             NaN   \n",
       "50%    1.563049e+07  2.018121e+13            NaN         NaN             NaN   \n",
       "75%    2.202577e+07  2.018121e+13            NaN         NaN             NaN   \n",
       "max    3.058041e+07  2.018121e+13            NaN         NaN             NaN   \n",
       "\n",
       "            host_id  host_acceptance_rate  host_listings_count  \\\n",
       "count  2.003000e+04                   0.0         20026.000000   \n",
       "mean   4.868570e+07                   NaN             6.105812   \n",
       "std    5.649635e+07                   NaN            30.388516   \n",
       "min    3.159000e+03                   NaN             0.000000   \n",
       "25%    8.093516e+06                   NaN             1.000000   \n",
       "50%    2.369450e+07                   NaN             1.000000   \n",
       "75%    6.827535e+07                   NaN             1.000000   \n",
       "max    2.293612e+08                   NaN           698.000000   \n",
       "\n",
       "       host_total_listings_count  neighbourhood_group_cleansed  ...  \\\n",
       "count               20026.000000                           0.0  ...   \n",
       "mean                    6.105812                           NaN  ...   \n",
       "std                    30.388516                           NaN  ...   \n",
       "min                     0.000000                           NaN  ...   \n",
       "25%                     1.000000                           NaN  ...   \n",
       "50%                     1.000000                           NaN  ...   \n",
       "75%                     1.000000                           NaN  ...   \n",
       "max                   698.000000                           NaN  ...   \n",
       "\n",
       "       number_of_reviews  review_scores_rating  review_scores_accuracy  \\\n",
       "count       20030.000000          17391.000000            17381.000000   \n",
       "mean           21.560459             94.849520                9.679765   \n",
       "std            43.240292              6.648685                0.685271   \n",
       "min             0.000000             20.000000                2.000000   \n",
       "25%             3.000000             93.000000                9.000000   \n",
       "50%             8.000000             97.000000               10.000000   \n",
       "75%            22.000000            100.000000               10.000000   \n",
       "max           695.000000            100.000000               10.000000   \n",
       "\n",
       "       review_scores_cleanliness  review_scores_checkin  \\\n",
       "count               17383.000000           17369.000000   \n",
       "mean                    9.465627               9.735563   \n",
       "std                     0.867973               0.646557   \n",
       "min                     2.000000               2.000000   \n",
       "25%                     9.000000              10.000000   \n",
       "50%                    10.000000              10.000000   \n",
       "75%                    10.000000              10.000000   \n",
       "max                    10.000000              10.000000   \n",
       "\n",
       "       review_scores_communication  review_scores_location  \\\n",
       "count                 17378.000000            17370.000000   \n",
       "mean                      9.785361                9.421531   \n",
       "std                       0.599409                0.727931   \n",
       "min                       2.000000                2.000000   \n",
       "25%                      10.000000                9.000000   \n",
       "50%                      10.000000               10.000000   \n",
       "75%                      10.000000               10.000000   \n",
       "max                      10.000000               10.000000   \n",
       "\n",
       "       review_scores_value  calculated_host_listings_count  reviews_per_month  \n",
       "count         17371.000000                    20030.000000        17624.00000  \n",
       "mean              9.175004                        4.734698            1.06208  \n",
       "std               0.805422                       22.921886            1.33332  \n",
       "min               2.000000                        1.000000            0.01000  \n",
       "25%               9.000000                        1.000000            0.27000  \n",
       "50%               9.000000                        1.000000            0.62000  \n",
       "75%              10.000000                        1.000000            1.23000  \n",
       "max              10.000000                      208.000000           11.85000  \n",
       "\n",
       "[8 rows x 34 columns]"
      ]
     },
     "execution_count": 4,
     "metadata": {},
     "output_type": "execute_result"
    }
   ],
   "source": [
    "#Quick summary of dataframe\n",
    "df.describe()\n"
   ]
  },
  {
   "cell_type": "code",
   "execution_count": 5,
   "metadata": {},
   "outputs": [
    {
     "data": {
      "text/plain": [
       "(20030, 96)"
      ]
     },
     "execution_count": 5,
     "metadata": {},
     "output_type": "execute_result"
    }
   ],
   "source": [
    "#number of rows and columns\n",
    "df.shape\n"
   ]
  },
  {
   "cell_type": "code",
   "execution_count": 6,
   "metadata": {},
   "outputs": [
    {
     "data": {
      "text/plain": [
       "20030"
      ]
     },
     "execution_count": 6,
     "metadata": {},
     "output_type": "execute_result"
    }
   ],
   "source": [
    "#sum of NaN values in price column\n",
    "np.sum(df.price.notnull())"
   ]
  },
  {
   "cell_type": "code",
   "execution_count": 7,
   "metadata": {},
   "outputs": [
    {
     "data": {
      "text/plain": [
       "0         $59.00\n",
       "1        $160.00\n",
       "2         $80.00\n",
       "3        $125.00\n",
       "4        $150.00\n",
       "          ...   \n",
       "20025    $340.00\n",
       "20026    $150.00\n",
       "20027     $80.00\n",
       "20028     $55.00\n",
       "20029    $220.00\n",
       "Name: price, Length: 20030, dtype: object"
      ]
     },
     "execution_count": 7,
     "metadata": {},
     "output_type": "execute_result"
    }
   ],
   "source": [
    "# price column\n",
    "df.price"
   ]
  },
  {
   "cell_type": "code",
   "execution_count": 8,
   "metadata": {},
   "outputs": [
    {
     "data": {
      "text/plain": [
       "Index(['id', 'scrape_id', 'thumbnail_url', 'medium_url', 'xl_picture_url',\n",
       "       'host_id', 'host_acceptance_rate', 'host_listings_count',\n",
       "       'host_total_listings_count', 'neighbourhood_group_cleansed', 'latitude',\n",
       "       'longitude', 'accommodates', 'bathrooms', 'bedrooms', 'beds',\n",
       "       'square_feet', 'guests_included', 'minimum_nights', 'maximum_nights',\n",
       "       'availability_30', 'availability_60', 'availability_90',\n",
       "       'availability_365', 'number_of_reviews', 'review_scores_rating',\n",
       "       'review_scores_accuracy', 'review_scores_cleanliness',\n",
       "       'review_scores_checkin', 'review_scores_communication',\n",
       "       'review_scores_location', 'review_scores_value',\n",
       "       'calculated_host_listings_count', 'reviews_per_month'],\n",
       "      dtype='object')"
      ]
     },
     "execution_count": 8,
     "metadata": {},
     "output_type": "execute_result"
    }
   ],
   "source": [
    "# check out all columns with numeric values\n",
    "num_vars = df.select_dtypes(include=['float', 'int']).columns\n",
    "num_vars"
   ]
  },
  {
   "cell_type": "code",
   "execution_count": 9,
   "metadata": {},
   "outputs": [
    {
     "data": {
      "text/plain": [
       "Index(['listing_url', 'last_scraped', 'name', 'summary', 'space',\n",
       "       'description', 'experiences_offered', 'neighborhood_overview', 'notes',\n",
       "       'transit', 'access', 'interaction', 'house_rules', 'picture_url',\n",
       "       'host_url', 'host_name', 'host_since', 'host_location', 'host_about',\n",
       "       'host_response_time', 'host_response_rate', 'host_is_superhost',\n",
       "       'host_thumbnail_url', 'host_picture_url', 'host_neighbourhood',\n",
       "       'host_verifications', 'host_has_profile_pic', 'host_identity_verified',\n",
       "       'street', 'neighbourhood', 'neighbourhood_cleansed', 'city', 'state',\n",
       "       'zipcode', 'market', 'smart_location', 'country_code', 'country',\n",
       "       'is_location_exact', 'property_type', 'room_type', 'bed_type',\n",
       "       'amenities', 'price', 'weekly_price', 'monthly_price',\n",
       "       'security_deposit', 'cleaning_fee', 'extra_people', 'calendar_updated',\n",
       "       'has_availability', 'calendar_last_scraped', 'first_review',\n",
       "       'last_review', 'requires_license', 'license', 'jurisdiction_names',\n",
       "       'instant_bookable', 'is_business_travel_ready', 'cancellation_policy',\n",
       "       'require_guest_profile_picture', 'require_guest_phone_verification'],\n",
       "      dtype='object')"
      ]
     },
     "execution_count": 9,
     "metadata": {},
     "output_type": "execute_result"
    }
   ],
   "source": [
    "# check out all columns with categorical values\n",
    "num_cat = df.select_dtypes(include=['object']).columns\n",
    "\n",
    "num_cat"
   ]
  },
  {
   "cell_type": "code",
   "execution_count": 10,
   "metadata": {},
   "outputs": [
    {
     "data": {
      "text/html": [
       "<div>\n",
       "<style scoped>\n",
       "    .dataframe tbody tr th:only-of-type {\n",
       "        vertical-align: middle;\n",
       "    }\n",
       "\n",
       "    .dataframe tbody tr th {\n",
       "        vertical-align: top;\n",
       "    }\n",
       "\n",
       "    .dataframe thead th {\n",
       "        text-align: right;\n",
       "    }\n",
       "</style>\n",
       "<table border=\"1\" class=\"dataframe\">\n",
       "  <thead>\n",
       "    <tr style=\"text-align: right;\">\n",
       "      <th></th>\n",
       "      <th>neighbourhood</th>\n",
       "      <th>neighborhood_overview</th>\n",
       "      <th>neighbourhood_cleansed</th>\n",
       "    </tr>\n",
       "  </thead>\n",
       "  <tbody>\n",
       "    <tr>\n",
       "      <th>0</th>\n",
       "      <td>Indische Buurt</td>\n",
       "      <td>Indische Buurt (\"Indies Neighborhood\") is a ne...</td>\n",
       "      <td>Oostelijk Havengebied - Indische Buurt</td>\n",
       "    </tr>\n",
       "    <tr>\n",
       "      <th>1</th>\n",
       "      <td>Spaarndammer en Zeeheldenbuurt</td>\n",
       "      <td>Welcome to the Spaarndammerbuurt! From the beg...</td>\n",
       "      <td>Westerpark</td>\n",
       "    </tr>\n",
       "    <tr>\n",
       "      <th>2</th>\n",
       "      <td>Grachtengordel</td>\n",
       "      <td>Located just in between famous central canals....</td>\n",
       "      <td>Centrum-Oost</td>\n",
       "    </tr>\n",
       "    <tr>\n",
       "      <th>3</th>\n",
       "      <td>Grachtengordel</td>\n",
       "      <td>NaN</td>\n",
       "      <td>Centrum-West</td>\n",
       "    </tr>\n",
       "    <tr>\n",
       "      <th>4</th>\n",
       "      <td>Westelijke Eilanden</td>\n",
       "      <td>Central, quiet, safe, clean and beautiful.</td>\n",
       "      <td>Centrum-West</td>\n",
       "    </tr>\n",
       "    <tr>\n",
       "      <th>...</th>\n",
       "      <td>...</td>\n",
       "      <td>...</td>\n",
       "      <td>...</td>\n",
       "    </tr>\n",
       "    <tr>\n",
       "      <th>20025</th>\n",
       "      <td>Watergraafsmeer</td>\n",
       "      <td>Restaurants supermarkets, 5 Minutes  inner inn...</td>\n",
       "      <td>Watergraafsmeer</td>\n",
       "    </tr>\n",
       "    <tr>\n",
       "      <th>20026</th>\n",
       "      <td>Indische Buurt</td>\n",
       "      <td>My Home Sweet Home is located in the beautiful...</td>\n",
       "      <td>Oostelijk Havengebied - Indische Buurt</td>\n",
       "    </tr>\n",
       "    <tr>\n",
       "      <th>20027</th>\n",
       "      <td>Indische Buurt</td>\n",
       "      <td>NaN</td>\n",
       "      <td>Oud-Oost</td>\n",
       "    </tr>\n",
       "    <tr>\n",
       "      <th>20028</th>\n",
       "      <td>Indische Buurt</td>\n",
       "      <td>My Home Sweet Home is located in the beautiful...</td>\n",
       "      <td>Oostelijk Havengebied - Indische Buurt</td>\n",
       "    </tr>\n",
       "    <tr>\n",
       "      <th>20029</th>\n",
       "      <td>Rivierenbuurt</td>\n",
       "      <td>NaN</td>\n",
       "      <td>De Pijp - Rivierenbuurt</td>\n",
       "    </tr>\n",
       "  </tbody>\n",
       "</table>\n",
       "<p>20030 rows × 3 columns</p>\n",
       "</div>"
      ],
      "text/plain": [
       "                        neighbourhood  \\\n",
       "0                      Indische Buurt   \n",
       "1      Spaarndammer en Zeeheldenbuurt   \n",
       "2                      Grachtengordel   \n",
       "3                      Grachtengordel   \n",
       "4                 Westelijke Eilanden   \n",
       "...                               ...   \n",
       "20025                 Watergraafsmeer   \n",
       "20026                  Indische Buurt   \n",
       "20027                  Indische Buurt   \n",
       "20028                  Indische Buurt   \n",
       "20029                   Rivierenbuurt   \n",
       "\n",
       "                                   neighborhood_overview  \\\n",
       "0      Indische Buurt (\"Indies Neighborhood\") is a ne...   \n",
       "1      Welcome to the Spaarndammerbuurt! From the beg...   \n",
       "2      Located just in between famous central canals....   \n",
       "3                                                    NaN   \n",
       "4             Central, quiet, safe, clean and beautiful.   \n",
       "...                                                  ...   \n",
       "20025  Restaurants supermarkets, 5 Minutes  inner inn...   \n",
       "20026  My Home Sweet Home is located in the beautiful...   \n",
       "20027                                                NaN   \n",
       "20028  My Home Sweet Home is located in the beautiful...   \n",
       "20029                                                NaN   \n",
       "\n",
       "                       neighbourhood_cleansed  \n",
       "0      Oostelijk Havengebied - Indische Buurt  \n",
       "1                                  Westerpark  \n",
       "2                                Centrum-Oost  \n",
       "3                                Centrum-West  \n",
       "4                                Centrum-West  \n",
       "...                                       ...  \n",
       "20025                         Watergraafsmeer  \n",
       "20026  Oostelijk Havengebied - Indische Buurt  \n",
       "20027                                Oud-Oost  \n",
       "20028  Oostelijk Havengebied - Indische Buurt  \n",
       "20029                 De Pijp - Rivierenbuurt  \n",
       "\n",
       "[20030 rows x 3 columns]"
      ]
     },
     "execution_count": 10,
     "metadata": {},
     "output_type": "execute_result"
    }
   ],
   "source": [
    "#check values in different neighbourhood columns\n",
    "df[['neighbourhood','neighborhood_overview','neighbourhood_cleansed']]"
   ]
  },
  {
   "cell_type": "code",
   "execution_count": 11,
   "metadata": {},
   "outputs": [
    {
     "data": {
      "text/plain": [
       "De Baarsjes - Oud-West                    0.175487\n",
       "De Pijp - Rivierenbuurt                   0.124463\n",
       "Centrum-West                              0.116126\n",
       "Centrum-Oost                              0.086370\n",
       "Westerpark                                0.074388\n",
       "Zuid                                      0.071942\n",
       "Oud-Oost                                  0.064004\n",
       "Bos en Lommer                             0.057164\n",
       "Oostelijk Havengebied - Indische Buurt    0.047878\n",
       "Oud-Noord                                 0.028507\n",
       "Watergraafsmeer                           0.027559\n",
       "IJburg - Zeeburgereiland                  0.022566\n",
       "Slotervaart                               0.019621\n",
       "Noord-West                                0.015976\n",
       "Buitenveldert - Zuidas                    0.013080\n",
       "Noord-Oost                                0.012831\n",
       "Geuzenveld - Slotermeer                   0.010584\n",
       "Osdorp                                    0.007938\n",
       "De Aker - Nieuw Sloten                    0.007089\n",
       "Gaasperdam - Driemond                     0.006091\n",
       "Bijlmer-Centrum                           0.005542\n",
       "Bijlmer-Oost                              0.004793\n",
       "Name: neighbourhood_cleansed, dtype: float64"
      ]
     },
     "execution_count": 11,
     "metadata": {},
     "output_type": "execute_result"
    }
   ],
   "source": [
    "# see ratio of categorical values \n",
    "df.neighbourhood_cleansed.value_counts() / df.shape[0]"
   ]
  },
  {
   "cell_type": "markdown",
   "execution_count": null,
   "metadata": {},
   "source": [
    "# **Data Preparation**\n",
    "\n",
    "* Dropping many columns\n",
    "* Cleaning some data quality issues\n",
    "* Cutting outliers based on mod-z\n",
    "* Create dummy variables"
   ]
  },
  {
   "cell_type": "code",
   "execution_count": 12,
   "metadata": {},
   "outputs": [],
   "source": [
    "# drop columns that are irelevant \n",
    "df_clean = df.drop(['id', 'scrape_id', 'thumbnail_url', 'medium_url', 'xl_picture_url',\n",
    "              'host_id', 'host_total_listings_count', 'neighbourhood_group_cleansed',\n",
    "              'latitude','longitude', 'calculated_host_listings_count', \n",
    "              'listing_url', 'last_scraped', 'name', 'summary', 'space',\n",
    "              'description', 'experiences_offered', 'neighborhood_overview', 'notes',\n",
    "              'transit', 'access', 'interaction', 'house_rules', 'picture_url',\n",
    "              'host_url', 'host_name', 'host_location', 'host_about',\n",
    "              'host_thumbnail_url', 'host_picture_url', 'host_neighbourhood','host_verifications',\n",
    "              'street', 'neighbourhood', 'city', 'state',\n",
    "              'zipcode', 'market', 'smart_location', 'country_code', 'country',\n",
    "              'weekly_price', 'monthly_price','security_deposit', 'cleaning_fee',\n",
    "              'extra_people', 'calendar_last_scraped', 'requires_license', 'license',\n",
    "              'jurisdiction_names','guests_included','host_response_time','host_response_rate',\n",
    "              'host_acceptance_rate','square_feet'\n",
    "             ], axis=1)\n",
    "\n"
   ]
  },
  {
   "cell_type": "markdown",
   "execution_count": null,
   "metadata": {},
   "source": [
    "# #Drop all NaN values "
   ]
  },
  {
   "cell_type": "code",
   "execution_count": 13,
   "metadata": {},
   "outputs": [],
   "source": [
    "# drop all NaN values\n",
    "df_clean = df_clean.dropna()"
   ]
  },
  {
   "cell_type": "markdown",
   "execution_count": null,
   "metadata": {},
   "source": [
    "## Get rid of string items in Price column"
   ]
  },
  {
   "cell_type": "code",
   "execution_count": 14,
   "metadata": {},
   "outputs": [],
   "source": [
    "# use string.replace to get rid of string items in price column\n",
    "df_clean = df_clean.assign(price=df_clean['price'].str.replace(r'$', ''))\n",
    "df_clean = df_clean.assign(price=df_clean['price'].str.replace(r',', ''))\n",
    "\n",
    "#Set price as float type\n",
    "df_clean['price'] = df_clean['price'].astype(float)"
   ]
  },
  {
   "cell_type": "markdown",
   "execution_count": null,
   "metadata": {},
   "source": [
    "## Get boolean expression from 'f'& 't' string"
   ]
  },
  {
   "cell_type": "code",
   "execution_count": 15,
   "metadata": {},
   "outputs": [],
   "source": [
    "# use lambda and distutils to go from string to boolean expression\n",
    "df_clean = df_clean.assign(host_is_superhost=df_clean['host_is_superhost'].apply(lambda x: bool(distutils.util.strtobool(x))))\n",
    "df_clean = df_clean.assign(host_has_profile_pic=df_clean['host_has_profile_pic'].apply(lambda x: bool(distutils.util.strtobool(x))))\n",
    "df_clean = df_clean.assign(host_identity_verified=df_clean['host_identity_verified'].apply(lambda x: bool(distutils.util.strtobool(x))))\n",
    "df_clean = df_clean.assign(is_location_exact=df_clean['is_location_exact'].apply(lambda x: bool(distutils.util.strtobool(x))))\n",
    "df_clean = df_clean.assign(instant_bookable=df_clean['instant_bookable'].apply(lambda x: bool(distutils.util.strtobool(x))))\n",
    "df_clean = df_clean.assign(is_business_travel_ready=df_clean['is_business_travel_ready'].apply(lambda x: bool(distutils.util.strtobool(x))))\n",
    "df_clean = df_clean.assign(require_guest_profile_picture=df_clean['require_guest_profile_picture'].apply(lambda x: bool(distutils.util.strtobool(x))))\n",
    "df_clean = df_clean.assign(require_guest_phone_verification=df_clean['require_guest_phone_verification'].apply(lambda x: bool(distutils.util.strtobool(x))))\n"
   ]
  },
  {
   "cell_type": "markdown",
   "execution_count": null,
   "metadata": {},
   "source": [
    "## Identify usefull amenities"
   ]
  },
  {
   "cell_type": "code",
   "execution_count": 16,
   "metadata": {},
   "outputs": [],
   "source": [
    "# find amenity availability by amenity\n",
    "df_clean = df_clean.assign(has_tv=df_clean['amenities'].apply(lambda x: x.find('Wifi') != -1))\n",
    "df_clean = df_clean.assign(has_fireplace=df_clean['amenities'].apply(lambda x: x.find('Indoor fireplace') != -1))\n",
    "df_clean = df_clean.assign(has_kitchen=df_clean['amenities'].apply(lambda x: x.find('Kitchen') != -1))\n",
    "df_clean = df_clean.assign(has_family_friendly=df_clean['amenities'].apply(lambda x: x.find('Family/kid friendly') != -1))\n",
    "df_clean = df_clean.assign(has_host_greeting=df_clean['amenities'].apply(lambda x: x.find('Host greets you') != -1))\n",
    "df_clean = df_clean.assign(has_24hrs_checkin=df_clean['amenities'].apply(lambda x: x.find('24-hour check-in') != -1))\n",
    "df_clean = df_clean.assign(has_breakfast=df_clean['amenities'].apply(lambda x: x.find('Breakfast') != -1))\n",
    "df_clean = df_clean.assign(has_pets=df_clean['amenities'].apply(lambda x: x.find('Pets live on this property') != -1))\n",
    "df_clean = df_clean.assign(has_dishwasher=df_clean['amenities'].apply(lambda x: x.find('Dishwasher') != -1))\n",
    "df_clean = df_clean.assign(has_private_entrance=df_clean['amenities'].apply(lambda x: x.find('Private entrance') != -1))\n",
    "df_clean = df_clean.assign(has_patio_balcony=df_clean['amenities'].apply(lambda x: x.find('Patio or balcony') != -1))\n",
    "df_clean = df_clean.assign(has_self_checkin=df_clean['amenities'].apply(lambda x: x.find('Self check-in') != -1))\n",
    "df_clean = df_clean.assign(has_workspace=df_clean['amenities'].apply(lambda x: x.find('Laptop friendly workspace') != -1))\n",
    "df_clean = df_clean.assign(has_bathtub=df_clean['amenities'].apply(lambda x: x.find('Bathtub') != -1))\n",
    "df_clean = df_clean.assign(has_longterm=df_clean['amenities'].apply(lambda x: x.find('Long term stays allowed') != -1))\n",
    "df_clean = df_clean.assign(has_parking=df_clean['amenities'].apply(lambda x: x.find('Free parking on premises') != -1))\n",
    "df_clean = df_clean.assign(has_garden=df_clean['amenities'].apply(lambda x: x.find('Garden or backyard') != -1))\n",
    "\n",
    "# drop amenities column\n",
    "df_clean = df_clean.drop(['amenities'],axis=1)"
   ]
  },
  {
   "cell_type": "markdown",
   "execution_count": null,
   "metadata": {},
   "source": [
    "## Use datetime calculation to get days metric for Host Since"
   ]
  },
  {
   "cell_type": "code",
   "execution_count": 17,
   "metadata": {},
   "outputs": [],
   "source": [
    "# create days delta calculation function\n",
    "day_calc = lambda x: (datetime.date.today() - datetime.datetime.strptime(x, \"%Y-%m-%d\").date()).days\n",
    "\n",
    "# apply on host_since column\n",
    "df_clean = df_clean.assign(host_since=df_clean['host_since'].apply(day_calc))"
   ]
  },
  {
   "cell_type": "markdown",
   "execution_count": null,
   "metadata": {},
   "source": [
    "## Drop some more columns"
   ]
  },
  {
   "cell_type": "code",
   "execution_count": 18,
   "metadata": {},
   "outputs": [],
   "source": [
    "#drop columns that will not add more value than host since column\n",
    "df_clean = df_clean.drop(['first_review','last_review'],axis=1)"
   ]
  },
  {
   "cell_type": "markdown",
   "execution_count": null,
   "metadata": {},
   "source": [
    "## Check outliers"
   ]
  },
  {
   "cell_type": "code",
   "execution_count": 19,
   "metadata": {},
   "outputs": [
    {
     "data": {
      "text/plain": [
       "8500.0"
      ]
     },
     "execution_count": 19,
     "metadata": {},
     "output_type": "execute_result"
    }
   ],
   "source": [
    "# max price\n",
    "df_clean.price.max()"
   ]
  },
  {
   "cell_type": "code",
   "execution_count": 20,
   "metadata": {},
   "outputs": [
    {
     "data": {
      "text/plain": [
       "1      0.067993\n",
       "2      0.066955\n",
       "3      0.061361\n",
       "4      0.055075\n",
       "5      0.049193\n",
       "         ...   \n",
       "275    0.000058\n",
       "291    0.000058\n",
       "307    0.000058\n",
       "410    0.000058\n",
       "527    0.000058\n",
       "Name: number_of_reviews, Length: 352, dtype: float64"
      ]
     },
     "execution_count": 20,
     "metadata": {},
     "output_type": "execute_result"
    }
   ],
   "source": [
    "# ratio of occurrences of value by certain column\n",
    "df_clean.number_of_reviews.value_counts() / df_clean.shape[0]"
   ]
  },
  {
   "cell_type": "code",
   "execution_count": 21,
   "metadata": {},
   "outputs": [
    {
     "data": {
      "text/plain": [
       "2       0.422895\n",
       "3       0.257266\n",
       "1       0.144291\n",
       "4       0.080681\n",
       "5       0.044810\n",
       "7       0.020704\n",
       "6       0.010611\n",
       "10      0.003172\n",
       "14      0.002999\n",
       "30      0.002134\n",
       "8       0.001211\n",
       "60      0.001096\n",
       "21      0.001038\n",
       "20      0.000980\n",
       "9       0.000750\n",
       "25      0.000519\n",
       "12      0.000519\n",
       "90      0.000461\n",
       "15      0.000461\n",
       "13      0.000404\n",
       "28      0.000404\n",
       "29      0.000288\n",
       "40      0.000288\n",
       "45      0.000231\n",
       "27      0.000173\n",
       "24      0.000115\n",
       "180     0.000115\n",
       "100     0.000115\n",
       "59      0.000115\n",
       "31      0.000115\n",
       "50      0.000115\n",
       "222     0.000058\n",
       "19      0.000058\n",
       "365     0.000058\n",
       "52      0.000058\n",
       "18      0.000058\n",
       "11      0.000058\n",
       "70      0.000058\n",
       "300     0.000058\n",
       "22      0.000058\n",
       "186     0.000058\n",
       "230     0.000058\n",
       "999     0.000058\n",
       "185     0.000058\n",
       "1001    0.000058\n",
       "26      0.000058\n",
       "95      0.000058\n",
       "Name: minimum_nights, dtype: float64"
      ]
     },
     "execution_count": 21,
     "metadata": {},
     "output_type": "execute_result"
    }
   ],
   "source": [
    "# ratio of occurrences of value by certain column\n",
    "df_clean.minimum_nights.value_counts() / df_clean.shape[0]\n",
    "    "
   ]
  },
  {
   "cell_type": "code",
   "execution_count": 22,
   "metadata": {},
   "outputs": [
    {
     "data": {
      "text/plain": [
       "<matplotlib.axes._subplots.AxesSubplot at 0x7f112d63c610>"
      ]
     },
     "execution_count": 22,
     "metadata": {},
     "output_type": "execute_result"
    },
    {
     "data": {
      "image/png": "[encoded data removed]",
      "text/plain": [
       "<Figure size 432x288 with 1 Axes>"
      ]
     },
     "metadata": {
      "needs_background": "light"
     },
     "output_type": "display_data"
    }
   ],
   "source": [
    "# check boxplot for price\n",
    "sns.boxplot(x=df_clean['price'])\n"
   ]
  },
  {
   "cell_type": "markdown",
   "execution_count": null,
   "metadata": {},
   "source": [
    "## Cut outliers for Price using Mod-z "
   ]
  },
  {
   "cell_type": "code",
   "execution_count": 23,
   "metadata": {},
   "outputs": [],
   "source": [
    "# create mod_z function (copied from: https://stackoverflow.com/questions/58127935/how-to-calculate-modified-z-score-and-iqr-on-each-column-of-the-dataframe)\n",
    "def mod_z(col: pd.Series, thresh: float=3.5) -> pd.Series:\n",
    "    med_col = col.median()\n",
    "    med_abs_dev = (np.abs(col - med_col)).median()\n",
    "    mod_z = 0.7413 * ((col - med_col) / med_abs_dev)\n",
    "    mod_z = mod_z[np.abs(mod_z) < thresh]\n",
    "    return np.abs(mod_z)\n",
    "\n",
    "# run mod_z function on dataframe\n",
    "df_mod_z = df_clean.select_dtypes(include=[np.number]).apply(mod_z)"
   ]
  },
  {
   "cell_type": "code",
   "execution_count": 24,
   "metadata": {},
   "outputs": [
    {
     "data": {
      "text/plain": [
       "(16365, 54)"
      ]
     },
     "execution_count": 24,
     "metadata": {},
     "output_type": "execute_result"
    }
   ],
   "source": [
    "#Apply above function to price \n",
    "df_clean_filtered = df_clean[df_mod_z['price'] >= 0]\n",
    "df_clean_filtered = df_clean_filtered[df_clean_filtered['price'] > 0]\n",
    "\n",
    "#check shape\n",
    "df_clean_filtered.shape"
   ]
  },
  {
   "cell_type": "code",
   "execution_count": 25,
   "metadata": {},
   "outputs": [
    {
     "data": {
      "text/html": [
       "<div>\n",
       "<style scoped>\n",
       "    .dataframe tbody tr th:only-of-type {\n",
       "        vertical-align: middle;\n",
       "    }\n",
       "\n",
       "    .dataframe tbody tr th {\n",
       "        vertical-align: top;\n",
       "    }\n",
       "\n",
       "    .dataframe thead th {\n",
       "        text-align: right;\n",
       "    }\n",
       "</style>\n",
       "<table border=\"1\" class=\"dataframe\">\n",
       "  <thead>\n",
       "    <tr style=\"text-align: right;\">\n",
       "      <th></th>\n",
       "      <th>host_since</th>\n",
       "      <th>host_listings_count</th>\n",
       "      <th>accommodates</th>\n",
       "      <th>bathrooms</th>\n",
       "      <th>bedrooms</th>\n",
       "      <th>beds</th>\n",
       "      <th>price</th>\n",
       "      <th>minimum_nights</th>\n",
       "      <th>maximum_nights</th>\n",
       "      <th>availability_30</th>\n",
       "      <th>...</th>\n",
       "      <th>availability_365</th>\n",
       "      <th>number_of_reviews</th>\n",
       "      <th>review_scores_rating</th>\n",
       "      <th>review_scores_accuracy</th>\n",
       "      <th>review_scores_cleanliness</th>\n",
       "      <th>review_scores_checkin</th>\n",
       "      <th>review_scores_communication</th>\n",
       "      <th>review_scores_location</th>\n",
       "      <th>review_scores_value</th>\n",
       "      <th>reviews_per_month</th>\n",
       "    </tr>\n",
       "  </thead>\n",
       "  <tbody>\n",
       "    <tr>\n",
       "      <th>count</th>\n",
       "      <td>16365.000000</td>\n",
       "      <td>16365.000000</td>\n",
       "      <td>16365.000000</td>\n",
       "      <td>16365.000000</td>\n",
       "      <td>16365.000000</td>\n",
       "      <td>16365.000000</td>\n",
       "      <td>16365.000000</td>\n",
       "      <td>16365.000000</td>\n",
       "      <td>16365.000000</td>\n",
       "      <td>16365.000000</td>\n",
       "      <td>...</td>\n",
       "      <td>16365.000000</td>\n",
       "      <td>16365.000000</td>\n",
       "      <td>16365.000000</td>\n",
       "      <td>16365.000000</td>\n",
       "      <td>16365.000000</td>\n",
       "      <td>16365.000000</td>\n",
       "      <td>16365.000000</td>\n",
       "      <td>16365.000000</td>\n",
       "      <td>16365.000000</td>\n",
       "      <td>16365.000000</td>\n",
       "    </tr>\n",
       "    <tr>\n",
       "      <th>mean</th>\n",
       "      <td>2028.958937</td>\n",
       "      <td>4.946471</td>\n",
       "      <td>2.759181</td>\n",
       "      <td>1.110419</td>\n",
       "      <td>1.361442</td>\n",
       "      <td>1.722090</td>\n",
       "      <td>131.605438</td>\n",
       "      <td>3.137244</td>\n",
       "      <td>623.603911</td>\n",
       "      <td>4.447724</td>\n",
       "      <td>...</td>\n",
       "      <td>56.218760</td>\n",
       "      <td>25.149038</td>\n",
       "      <td>94.820837</td>\n",
       "      <td>9.678766</td>\n",
       "      <td>9.463917</td>\n",
       "      <td>9.732050</td>\n",
       "      <td>9.783868</td>\n",
       "      <td>9.409288</td>\n",
       "      <td>9.176841</td>\n",
       "      <td>1.085888</td>\n",
       "    </tr>\n",
       "    <tr>\n",
       "      <th>std</th>\n",
       "      <td>657.555132</td>\n",
       "      <td>24.507153</td>\n",
       "      <td>1.092292</td>\n",
       "      <td>0.839856</td>\n",
       "      <td>0.779107</td>\n",
       "      <td>1.137892</td>\n",
       "      <td>51.733612</td>\n",
       "      <td>12.348336</td>\n",
       "      <td>541.965627</td>\n",
       "      <td>7.390356</td>\n",
       "      <td>...</td>\n",
       "      <td>99.964686</td>\n",
       "      <td>46.479786</td>\n",
       "      <td>6.621718</td>\n",
       "      <td>0.685351</td>\n",
       "      <td>0.867257</td>\n",
       "      <td>0.646807</td>\n",
       "      <td>0.595681</td>\n",
       "      <td>0.727493</td>\n",
       "      <td>0.805605</td>\n",
       "      <td>1.363157</td>\n",
       "    </tr>\n",
       "    <tr>\n",
       "      <th>min</th>\n",
       "      <td>578.000000</td>\n",
       "      <td>0.000000</td>\n",
       "      <td>1.000000</td>\n",
       "      <td>0.000000</td>\n",
       "      <td>0.000000</td>\n",
       "      <td>0.000000</td>\n",
       "      <td>8.000000</td>\n",
       "      <td>1.000000</td>\n",
       "      <td>1.000000</td>\n",
       "      <td>0.000000</td>\n",
       "      <td>...</td>\n",
       "      <td>0.000000</td>\n",
       "      <td>1.000000</td>\n",
       "      <td>20.000000</td>\n",
       "      <td>2.000000</td>\n",
       "      <td>2.000000</td>\n",
       "      <td>2.000000</td>\n",
       "      <td>2.000000</td>\n",
       "      <td>2.000000</td>\n",
       "      <td>2.000000</td>\n",
       "      <td>0.010000</td>\n",
       "    </tr>\n",
       "    <tr>\n",
       "      <th>25%</th>\n",
       "      <td>1542.000000</td>\n",
       "      <td>1.000000</td>\n",
       "      <td>2.000000</td>\n",
       "      <td>1.000000</td>\n",
       "      <td>1.000000</td>\n",
       "      <td>1.000000</td>\n",
       "      <td>95.000000</td>\n",
       "      <td>2.000000</td>\n",
       "      <td>21.000000</td>\n",
       "      <td>0.000000</td>\n",
       "      <td>...</td>\n",
       "      <td>0.000000</td>\n",
       "      <td>4.000000</td>\n",
       "      <td>93.000000</td>\n",
       "      <td>9.000000</td>\n",
       "      <td>9.000000</td>\n",
       "      <td>10.000000</td>\n",
       "      <td>10.000000</td>\n",
       "      <td>9.000000</td>\n",
       "      <td>9.000000</td>\n",
       "      <td>0.270000</td>\n",
       "    </tr>\n",
       "    <tr>\n",
       "      <th>50%</th>\n",
       "      <td>2072.000000</td>\n",
       "      <td>1.000000</td>\n",
       "      <td>2.000000</td>\n",
       "      <td>1.000000</td>\n",
       "      <td>1.000000</td>\n",
       "      <td>1.000000</td>\n",
       "      <td>120.000000</td>\n",
       "      <td>2.000000</td>\n",
       "      <td>1124.000000</td>\n",
       "      <td>0.000000</td>\n",
       "      <td>...</td>\n",
       "      <td>3.000000</td>\n",
       "      <td>11.000000</td>\n",
       "      <td>97.000000</td>\n",
       "      <td>10.000000</td>\n",
       "      <td>10.000000</td>\n",
       "      <td>10.000000</td>\n",
       "      <td>10.000000</td>\n",
       "      <td>10.000000</td>\n",
       "      <td>9.000000</td>\n",
       "      <td>0.620000</td>\n",
       "    </tr>\n",
       "    <tr>\n",
       "      <th>75%</th>\n",
       "      <td>2522.000000</td>\n",
       "      <td>1.000000</td>\n",
       "      <td>4.000000</td>\n",
       "      <td>1.000000</td>\n",
       "      <td>2.000000</td>\n",
       "      <td>2.000000</td>\n",
       "      <td>160.000000</td>\n",
       "      <td>3.000000</td>\n",
       "      <td>1125.000000</td>\n",
       "      <td>6.000000</td>\n",
       "      <td>...</td>\n",
       "      <td>63.000000</td>\n",
       "      <td>25.000000</td>\n",
       "      <td>100.000000</td>\n",
       "      <td>10.000000</td>\n",
       "      <td>10.000000</td>\n",
       "      <td>10.000000</td>\n",
       "      <td>10.000000</td>\n",
       "      <td>10.000000</td>\n",
       "      <td>10.000000</td>\n",
       "      <td>1.250000</td>\n",
       "    </tr>\n",
       "    <tr>\n",
       "      <th>max</th>\n",
       "      <td>4292.000000</td>\n",
       "      <td>698.000000</td>\n",
       "      <td>17.000000</td>\n",
       "      <td>100.500000</td>\n",
       "      <td>12.000000</td>\n",
       "      <td>32.000000</td>\n",
       "      <td>290.000000</td>\n",
       "      <td>1001.000000</td>\n",
       "      <td>9999.000000</td>\n",
       "      <td>30.000000</td>\n",
       "      <td>...</td>\n",
       "      <td>365.000000</td>\n",
       "      <td>695.000000</td>\n",
       "      <td>100.000000</td>\n",
       "      <td>10.000000</td>\n",
       "      <td>10.000000</td>\n",
       "      <td>10.000000</td>\n",
       "      <td>10.000000</td>\n",
       "      <td>10.000000</td>\n",
       "      <td>10.000000</td>\n",
       "      <td>11.850000</td>\n",
       "    </tr>\n",
       "  </tbody>\n",
       "</table>\n",
       "<p>8 rows × 22 columns</p>\n",
       "</div>"
      ],
      "text/plain": [
       "         host_since  host_listings_count  accommodates     bathrooms  \\\n",
       "count  16365.000000         16365.000000  16365.000000  16365.000000   \n",
       "mean    2028.958937             4.946471      2.759181      1.110419   \n",
       "std      657.555132            24.507153      1.092292      0.839856   \n",
       "min      578.000000             0.000000      1.000000      0.000000   \n",
       "25%     1542.000000             1.000000      2.000000      1.000000   \n",
       "50%     2072.000000             1.000000      2.000000      1.000000   \n",
       "75%     2522.000000             1.000000      4.000000      1.000000   \n",
       "max     4292.000000           698.000000     17.000000    100.500000   \n",
       "\n",
       "           bedrooms          beds         price  minimum_nights  \\\n",
       "count  16365.000000  16365.000000  16365.000000    16365.000000   \n",
       "mean       1.361442      1.722090    131.605438        3.137244   \n",
       "std        0.779107      1.137892     51.733612       12.348336   \n",
       "min        0.000000      0.000000      8.000000        1.000000   \n",
       "25%        1.000000      1.000000     95.000000        2.000000   \n",
       "50%        1.000000      1.000000    120.000000        2.000000   \n",
       "75%        2.000000      2.000000    160.000000        3.000000   \n",
       "max       12.000000     32.000000    290.000000     1001.000000   \n",
       "\n",
       "       maximum_nights  availability_30  ...  availability_365  \\\n",
       "count    16365.000000     16365.000000  ...      16365.000000   \n",
       "mean       623.603911         4.447724  ...         56.218760   \n",
       "std        541.965627         7.390356  ...         99.964686   \n",
       "min          1.000000         0.000000  ...          0.000000   \n",
       "25%         21.000000         0.000000  ...          0.000000   \n",
       "50%       1124.000000         0.000000  ...          3.000000   \n",
       "75%       1125.000000         6.000000  ...         63.000000   \n",
       "max       9999.000000        30.000000  ...        365.000000   \n",
       "\n",
       "       number_of_reviews  review_scores_rating  review_scores_accuracy  \\\n",
       "count       16365.000000          16365.000000            16365.000000   \n",
       "mean           25.149038             94.820837                9.678766   \n",
       "std            46.479786              6.621718                0.685351   \n",
       "min             1.000000             20.000000                2.000000   \n",
       "25%             4.000000             93.000000                9.000000   \n",
       "50%            11.000000             97.000000               10.000000   \n",
       "75%            25.000000            100.000000               10.000000   \n",
       "max           695.000000            100.000000               10.000000   \n",
       "\n",
       "       review_scores_cleanliness  review_scores_checkin  \\\n",
       "count               16365.000000           16365.000000   \n",
       "mean                    9.463917               9.732050   \n",
       "std                     0.867257               0.646807   \n",
       "min                     2.000000               2.000000   \n",
       "25%                     9.000000              10.000000   \n",
       "50%                    10.000000              10.000000   \n",
       "75%                    10.000000              10.000000   \n",
       "max                    10.000000              10.000000   \n",
       "\n",
       "       review_scores_communication  review_scores_location  \\\n",
       "count                 16365.000000            16365.000000   \n",
       "mean                      9.783868                9.409288   \n",
       "std                       0.595681                0.727493   \n",
       "min                       2.000000                2.000000   \n",
       "25%                      10.000000                9.000000   \n",
       "50%                      10.000000               10.000000   \n",
       "75%                      10.000000               10.000000   \n",
       "max                      10.000000               10.000000   \n",
       "\n",
       "       review_scores_value  reviews_per_month  \n",
       "count         16365.000000       16365.000000  \n",
       "mean              9.176841           1.085888  \n",
       "std               0.805605           1.363157  \n",
       "min               2.000000           0.010000  \n",
       "25%               9.000000           0.270000  \n",
       "50%               9.000000           0.620000  \n",
       "75%              10.000000           1.250000  \n",
       "max              10.000000          11.850000  \n",
       "\n",
       "[8 rows x 22 columns]"
      ]
     },
     "execution_count": 25,
     "metadata": {},
     "output_type": "execute_result"
    }
   ],
   "source": [
    "# check summary\n",
    "df_clean_filtered.describe()"
   ]
  },
  {
   "cell_type": "markdown",
   "execution_count": null,
   "metadata": {},
   "source": [
    "## Cut outliers with hardcoded parameter"
   ]
  },
  {
   "cell_type": "code",
   "execution_count": 26,
   "metadata": {},
   "outputs": [
    {
     "data": {
      "text/plain": [
       "(16059, 54)"
      ]
     },
     "execution_count": 26,
     "metadata": {},
     "output_type": "execute_result"
    }
   ],
   "source": [
    "#Cut outliers\n",
    "df_clean_filtered = df_clean_filtered[df_clean_filtered['host_listings_count'] < 60]\n",
    "df_clean_filtered = df_clean_filtered[df_clean_filtered['bathrooms'] < 20]\n",
    "df_clean_filtered = df_clean_filtered[df_clean_filtered['beds'] < 20]\n",
    "df_clean_filtered = df_clean_filtered[df_clean_filtered['minimum_nights'] < 365]\n",
    "df_clean_filtered = df_clean_filtered[df_clean_filtered['maximum_nights'] < 2000]\n",
    "\n",
    "#Check shape\n",
    "df_clean_filtered.shape"
   ]
  },
  {
   "cell_type": "markdown",
   "execution_count": null,
   "metadata": {},
   "source": [
    "Drop a few final columns\n"
   ]
  },
  {
   "cell_type": "code",
   "execution_count": 27,
   "metadata": {},
   "outputs": [],
   "source": [
    "# drop some  because they're too tricky \n",
    "df_clean_filtered_drop = df_clean_filtered.drop(['calendar_updated','has_availability'],axis=1)"
   ]
  },
  {
   "cell_type": "markdown",
   "execution_count": null,
   "metadata": {},
   "source": [
    "# Create dummy variables\n"
   ]
  },
  {
   "cell_type": "code",
   "execution_count": 28,
   "metadata": {},
   "outputs": [],
   "source": [
    "# create dummy in dataframe function\n",
    "def create_dummy_df(df, cat_cols, dummy_na):\n",
    "    '''\n",
    "    INPUT:\n",
    "    df - pandas dataframe with categorical variables you want to dummy\n",
    "    cat_cols - list of strings that are associated with names of the categorical columns\n",
    "    dummy_na - Bool holding whether you want to dummy NA vals of categorical columns or not\n",
    "    \n",
    "    OUTPUT:\n",
    "    df - a new dataframe that has the following characteristics:\n",
    "            1. contains all columns that were not specified as categorical\n",
    "            2. removes all the original columns in cat_cols\n",
    "            3. dummy columns for each of the categorical columns in cat_cols\n",
    "            4. if dummy_na is True - it also contains dummy columns for the NaN values\n",
    "            5. Use a prefix of the column name with an underscore (_) for separating \n",
    "    '''\n",
    "    for col in  cat_cols:\n",
    "        try:\n",
    "            # for each cat add dummy var, drop original column\n",
    "            df = pd.concat([df.drop(col, axis=1), pd.get_dummies(df[col], prefix=col, prefix_sep='_', drop_first=True, dummy_na=dummy_na)], axis=1)\n",
    "        except:\n",
    "            continue\n",
    "    return df"
   ]
  },
  {
   "cell_type": "code",
   "execution_count": 29,
   "metadata": {},
   "outputs": [
    {
     "data": {
      "text/html": [
       "<div>\n",
       "<style scoped>\n",
       "    .dataframe tbody tr th:only-of-type {\n",
       "        vertical-align: middle;\n",
       "    }\n",
       "\n",
       "    .dataframe tbody tr th {\n",
       "        vertical-align: top;\n",
       "    }\n",
       "\n",
       "    .dataframe thead th {\n",
       "        text-align: right;\n",
       "    }\n",
       "</style>\n",
       "<table border=\"1\" class=\"dataframe\">\n",
       "  <thead>\n",
       "    <tr style=\"text-align: right;\">\n",
       "      <th></th>\n",
       "      <th>host_since</th>\n",
       "      <th>host_is_superhost</th>\n",
       "      <th>host_listings_count</th>\n",
       "      <th>host_has_profile_pic</th>\n",
       "      <th>host_identity_verified</th>\n",
       "      <th>is_location_exact</th>\n",
       "      <th>accommodates</th>\n",
       "      <th>bathrooms</th>\n",
       "      <th>bedrooms</th>\n",
       "      <th>beds</th>\n",
       "      <th>...</th>\n",
       "      <th>property_type_Villa</th>\n",
       "      <th>room_type_Private room</th>\n",
       "      <th>room_type_Shared room</th>\n",
       "      <th>bed_type_Couch</th>\n",
       "      <th>bed_type_Futon</th>\n",
       "      <th>bed_type_Pull-out Sofa</th>\n",
       "      <th>bed_type_Real Bed</th>\n",
       "      <th>cancellation_policy_moderate</th>\n",
       "      <th>cancellation_policy_strict_14_with_grace_period</th>\n",
       "      <th>cancellation_policy_super_strict_60</th>\n",
       "    </tr>\n",
       "  </thead>\n",
       "  <tbody>\n",
       "    <tr>\n",
       "      <th>0</th>\n",
       "      <td>4292</td>\n",
       "      <td>True</td>\n",
       "      <td>1.0</td>\n",
       "      <td>True</td>\n",
       "      <td>False</td>\n",
       "      <td>False</td>\n",
       "      <td>2</td>\n",
       "      <td>1.5</td>\n",
       "      <td>1.0</td>\n",
       "      <td>2.0</td>\n",
       "      <td>...</td>\n",
       "      <td>0</td>\n",
       "      <td>1</td>\n",
       "      <td>0</td>\n",
       "      <td>0</td>\n",
       "      <td>0</td>\n",
       "      <td>0</td>\n",
       "      <td>1</td>\n",
       "      <td>0</td>\n",
       "      <td>1</td>\n",
       "      <td>0</td>\n",
       "    </tr>\n",
       "    <tr>\n",
       "      <th>1</th>\n",
       "      <td>4262</td>\n",
       "      <td>False</td>\n",
       "      <td>1.0</td>\n",
       "      <td>True</td>\n",
       "      <td>True</td>\n",
       "      <td>True</td>\n",
       "      <td>5</td>\n",
       "      <td>1.0</td>\n",
       "      <td>2.0</td>\n",
       "      <td>2.0</td>\n",
       "      <td>...</td>\n",
       "      <td>0</td>\n",
       "      <td>0</td>\n",
       "      <td>0</td>\n",
       "      <td>0</td>\n",
       "      <td>0</td>\n",
       "      <td>0</td>\n",
       "      <td>1</td>\n",
       "      <td>1</td>\n",
       "      <td>0</td>\n",
       "      <td>0</td>\n",
       "    </tr>\n",
       "    <tr>\n",
       "      <th>2</th>\n",
       "      <td>3858</td>\n",
       "      <td>False</td>\n",
       "      <td>2.0</td>\n",
       "      <td>True</td>\n",
       "      <td>False</td>\n",
       "      <td>True</td>\n",
       "      <td>2</td>\n",
       "      <td>1.0</td>\n",
       "      <td>1.0</td>\n",
       "      <td>1.0</td>\n",
       "      <td>...</td>\n",
       "      <td>0</td>\n",
       "      <td>0</td>\n",
       "      <td>0</td>\n",
       "      <td>0</td>\n",
       "      <td>0</td>\n",
       "      <td>0</td>\n",
       "      <td>1</td>\n",
       "      <td>0</td>\n",
       "      <td>1</td>\n",
       "      <td>0</td>\n",
       "    </tr>\n",
       "    <tr>\n",
       "      <th>3</th>\n",
       "      <td>3870</td>\n",
       "      <td>False</td>\n",
       "      <td>2.0</td>\n",
       "      <td>True</td>\n",
       "      <td>False</td>\n",
       "      <td>False</td>\n",
       "      <td>3</td>\n",
       "      <td>1.0</td>\n",
       "      <td>1.0</td>\n",
       "      <td>1.0</td>\n",
       "      <td>...</td>\n",
       "      <td>0</td>\n",
       "      <td>0</td>\n",
       "      <td>0</td>\n",
       "      <td>0</td>\n",
       "      <td>0</td>\n",
       "      <td>0</td>\n",
       "      <td>1</td>\n",
       "      <td>0</td>\n",
       "      <td>1</td>\n",
       "      <td>0</td>\n",
       "    </tr>\n",
       "    <tr>\n",
       "      <th>4</th>\n",
       "      <td>3747</td>\n",
       "      <td>True</td>\n",
       "      <td>1.0</td>\n",
       "      <td>True</td>\n",
       "      <td>True</td>\n",
       "      <td>True</td>\n",
       "      <td>2</td>\n",
       "      <td>1.0</td>\n",
       "      <td>1.0</td>\n",
       "      <td>1.0</td>\n",
       "      <td>...</td>\n",
       "      <td>0</td>\n",
       "      <td>1</td>\n",
       "      <td>0</td>\n",
       "      <td>0</td>\n",
       "      <td>0</td>\n",
       "      <td>0</td>\n",
       "      <td>1</td>\n",
       "      <td>0</td>\n",
       "      <td>1</td>\n",
       "      <td>0</td>\n",
       "    </tr>\n",
       "    <tr>\n",
       "      <th>...</th>\n",
       "      <td>...</td>\n",
       "      <td>...</td>\n",
       "      <td>...</td>\n",
       "      <td>...</td>\n",
       "      <td>...</td>\n",
       "      <td>...</td>\n",
       "      <td>...</td>\n",
       "      <td>...</td>\n",
       "      <td>...</td>\n",
       "      <td>...</td>\n",
       "      <td>...</td>\n",
       "      <td>...</td>\n",
       "      <td>...</td>\n",
       "      <td>...</td>\n",
       "      <td>...</td>\n",
       "      <td>...</td>\n",
       "      <td>...</td>\n",
       "      <td>...</td>\n",
       "      <td>...</td>\n",
       "      <td>...</td>\n",
       "      <td>...</td>\n",
       "    </tr>\n",
       "    <tr>\n",
       "      <th>19769</th>\n",
       "      <td>578</td>\n",
       "      <td>False</td>\n",
       "      <td>4.0</td>\n",
       "      <td>True</td>\n",
       "      <td>False</td>\n",
       "      <td>False</td>\n",
       "      <td>3</td>\n",
       "      <td>1.0</td>\n",
       "      <td>0.0</td>\n",
       "      <td>2.0</td>\n",
       "      <td>...</td>\n",
       "      <td>0</td>\n",
       "      <td>0</td>\n",
       "      <td>0</td>\n",
       "      <td>0</td>\n",
       "      <td>0</td>\n",
       "      <td>0</td>\n",
       "      <td>1</td>\n",
       "      <td>0</td>\n",
       "      <td>1</td>\n",
       "      <td>0</td>\n",
       "    </tr>\n",
       "    <tr>\n",
       "      <th>19794</th>\n",
       "      <td>665</td>\n",
       "      <td>False</td>\n",
       "      <td>13.0</td>\n",
       "      <td>True</td>\n",
       "      <td>False</td>\n",
       "      <td>True</td>\n",
       "      <td>2</td>\n",
       "      <td>1.0</td>\n",
       "      <td>1.0</td>\n",
       "      <td>1.0</td>\n",
       "      <td>...</td>\n",
       "      <td>0</td>\n",
       "      <td>1</td>\n",
       "      <td>0</td>\n",
       "      <td>0</td>\n",
       "      <td>0</td>\n",
       "      <td>0</td>\n",
       "      <td>1</td>\n",
       "      <td>0</td>\n",
       "      <td>0</td>\n",
       "      <td>0</td>\n",
       "    </tr>\n",
       "    <tr>\n",
       "      <th>19866</th>\n",
       "      <td>2276</td>\n",
       "      <td>False</td>\n",
       "      <td>1.0</td>\n",
       "      <td>True</td>\n",
       "      <td>True</td>\n",
       "      <td>True</td>\n",
       "      <td>1</td>\n",
       "      <td>1.0</td>\n",
       "      <td>1.0</td>\n",
       "      <td>1.0</td>\n",
       "      <td>...</td>\n",
       "      <td>0</td>\n",
       "      <td>1</td>\n",
       "      <td>0</td>\n",
       "      <td>0</td>\n",
       "      <td>0</td>\n",
       "      <td>0</td>\n",
       "      <td>1</td>\n",
       "      <td>1</td>\n",
       "      <td>0</td>\n",
       "      <td>0</td>\n",
       "    </tr>\n",
       "    <tr>\n",
       "      <th>19975</th>\n",
       "      <td>1883</td>\n",
       "      <td>True</td>\n",
       "      <td>2.0</td>\n",
       "      <td>True</td>\n",
       "      <td>True</td>\n",
       "      <td>True</td>\n",
       "      <td>4</td>\n",
       "      <td>1.5</td>\n",
       "      <td>2.0</td>\n",
       "      <td>2.0</td>\n",
       "      <td>...</td>\n",
       "      <td>0</td>\n",
       "      <td>0</td>\n",
       "      <td>0</td>\n",
       "      <td>0</td>\n",
       "      <td>0</td>\n",
       "      <td>0</td>\n",
       "      <td>1</td>\n",
       "      <td>0</td>\n",
       "      <td>1</td>\n",
       "      <td>0</td>\n",
       "    </tr>\n",
       "    <tr>\n",
       "      <th>20007</th>\n",
       "      <td>3500</td>\n",
       "      <td>False</td>\n",
       "      <td>1.0</td>\n",
       "      <td>True</td>\n",
       "      <td>False</td>\n",
       "      <td>False</td>\n",
       "      <td>2</td>\n",
       "      <td>1.0</td>\n",
       "      <td>1.0</td>\n",
       "      <td>2.0</td>\n",
       "      <td>...</td>\n",
       "      <td>0</td>\n",
       "      <td>1</td>\n",
       "      <td>0</td>\n",
       "      <td>0</td>\n",
       "      <td>0</td>\n",
       "      <td>0</td>\n",
       "      <td>1</td>\n",
       "      <td>0</td>\n",
       "      <td>0</td>\n",
       "      <td>0</td>\n",
       "    </tr>\n",
       "  </tbody>\n",
       "</table>\n",
       "<p>16059 rows × 104 columns</p>\n",
       "</div>"
      ],
      "text/plain": [
       "       host_since  host_is_superhost  host_listings_count  \\\n",
       "0            4292               True                  1.0   \n",
       "1            4262              False                  1.0   \n",
       "2            3858              False                  2.0   \n",
       "3            3870              False                  2.0   \n",
       "4            3747               True                  1.0   \n",
       "...           ...                ...                  ...   \n",
       "19769         578              False                  4.0   \n",
       "19794         665              False                 13.0   \n",
       "19866        2276              False                  1.0   \n",
       "19975        1883               True                  2.0   \n",
       "20007        3500              False                  1.0   \n",
       "\n",
       "       host_has_profile_pic  host_identity_verified  is_location_exact  \\\n",
       "0                      True                   False              False   \n",
       "1                      True                    True               True   \n",
       "2                      True                   False               True   \n",
       "3                      True                   False              False   \n",
       "4                      True                    True               True   \n",
       "...                     ...                     ...                ...   \n",
       "19769                  True                   False              False   \n",
       "19794                  True                   False               True   \n",
       "19866                  True                    True               True   \n",
       "19975                  True                    True               True   \n",
       "20007                  True                   False              False   \n",
       "\n",
       "       accommodates  bathrooms  bedrooms  beds  ...  property_type_Villa  \\\n",
       "0                 2        1.5       1.0   2.0  ...                    0   \n",
       "1                 5        1.0       2.0   2.0  ...                    0   \n",
       "2                 2        1.0       1.0   1.0  ...                    0   \n",
       "3                 3        1.0       1.0   1.0  ...                    0   \n",
       "4                 2        1.0       1.0   1.0  ...                    0   \n",
       "...             ...        ...       ...   ...  ...                  ...   \n",
       "19769             3        1.0       0.0   2.0  ...                    0   \n",
       "19794             2        1.0       1.0   1.0  ...                    0   \n",
       "19866             1        1.0       1.0   1.0  ...                    0   \n",
       "19975             4        1.5       2.0   2.0  ...                    0   \n",
       "20007             2        1.0       1.0   2.0  ...                    0   \n",
       "\n",
       "       room_type_Private room  room_type_Shared room  bed_type_Couch  \\\n",
       "0                           1                      0               0   \n",
       "1                           0                      0               0   \n",
       "2                           0                      0               0   \n",
       "3                           0                      0               0   \n",
       "4                           1                      0               0   \n",
       "...                       ...                    ...             ...   \n",
       "19769                       0                      0               0   \n",
       "19794                       1                      0               0   \n",
       "19866                       1                      0               0   \n",
       "19975                       0                      0               0   \n",
       "20007                       1                      0               0   \n",
       "\n",
       "       bed_type_Futon  bed_type_Pull-out Sofa  bed_type_Real Bed  \\\n",
       "0                   0                       0                  1   \n",
       "1                   0                       0                  1   \n",
       "2                   0                       0                  1   \n",
       "3                   0                       0                  1   \n",
       "4                   0                       0                  1   \n",
       "...               ...                     ...                ...   \n",
       "19769               0                       0                  1   \n",
       "19794               0                       0                  1   \n",
       "19866               0                       0                  1   \n",
       "19975               0                       0                  1   \n",
       "20007               0                       0                  1   \n",
       "\n",
       "       cancellation_policy_moderate  \\\n",
       "0                                 0   \n",
       "1                                 1   \n",
       "2                                 0   \n",
       "3                                 0   \n",
       "4                                 0   \n",
       "...                             ...   \n",
       "19769                             0   \n",
       "19794                             0   \n",
       "19866                             1   \n",
       "19975                             0   \n",
       "20007                             0   \n",
       "\n",
       "       cancellation_policy_strict_14_with_grace_period  \\\n",
       "0                                                    1   \n",
       "1                                                    0   \n",
       "2                                                    1   \n",
       "3                                                    1   \n",
       "4                                                    1   \n",
       "...                                                ...   \n",
       "19769                                                1   \n",
       "19794                                                0   \n",
       "19866                                                0   \n",
       "19975                                                1   \n",
       "20007                                                0   \n",
       "\n",
       "       cancellation_policy_super_strict_60  \n",
       "0                                        0  \n",
       "1                                        0  \n",
       "2                                        0  \n",
       "3                                        0  \n",
       "4                                        0  \n",
       "...                                    ...  \n",
       "19769                                    0  \n",
       "19794                                    0  \n",
       "19866                                    0  \n",
       "19975                                    0  \n",
       "20007                                    0  \n",
       "\n",
       "[16059 rows x 104 columns]"
      ]
     },
     "execution_count": 29,
     "metadata": {},
     "output_type": "execute_result"
    }
   ],
   "source": [
    "#Set categorical columns to be dummied\n",
    "cat_cols_lst = df_clean_filtered_drop.select_dtypes(include=['object']).columns\n",
    "\n",
    "#Apply create dummy function\n",
    "df_model = create_dummy_df(df_clean_filtered_drop, cat_cols_lst, dummy_na=False) #Use your newly created function\n",
    "\n",
    "#check df\n",
    "df_model"
   ]
  },
  {
   "cell_type": "markdown",
   "execution_count": null,
   "metadata": {},
   "source": [
    "## Check normal distribution of Response variable"
   ]
  },
  {
   "cell_type": "code",
   "execution_count": 30,
   "metadata": {},
   "outputs": [
    {
     "data": {
      "text/plain": [
       "<matplotlib.axes._subplots.AxesSubplot at 0x7f112d64b250>"
      ]
     },
     "execution_count": 30,
     "metadata": {},
     "output_type": "execute_result"
    },
    {
     "data": {
      "image/png": "[encoded data removed]",
      "text/plain": [
       "<Figure size 1080x720 with 1 Axes>"
      ]
     },
     "metadata": {
      "needs_background": "light"
     },
     "output_type": "display_data"
    }
   ],
   "source": [
    "#plot distribution of Price\n",
    "plt.figure(figsize=(15,10))\n",
    "plt.tight_layout()\n",
    "sns.distplot(df_model['price'])"
   ]
  },
  {
   "cell_type": "markdown",
   "execution_count": null,
   "metadata": {},
   "source": [
    "# Preprocessing"
   ]
  },
  {
   "cell_type": "markdown",
   "execution_count": null,
   "metadata": {},
   "source": [
    "* Normalize some columns to combine them\n",
    "* Transform some data to create normal distribution of input variables\n",
    "* Standardization using StandardScaler"
   ]
  },
  {
   "cell_type": "markdown",
   "execution_count": null,
   "metadata": {},
   "source": [
    "## Normalize and combine "
   ]
  },
  {
   "cell_type": "code",
   "execution_count": 31,
   "metadata": {},
   "outputs": [],
   "source": [
    "#Import Normalizer from sklearn\n",
    "from sklearn.preprocessing import Normalizer \n",
    "\n",
    "#Set variables to normalize\n",
    "norm_vars = ['beds','bedrooms','accommodates']\n",
    "\n",
    "# initiate normalizer and apply to scaled data array\n",
    "normalize = Normalizer().fit(df_model[norm_vars])\n",
    "norm_array = normalize.transform(df_model[norm_vars])\n",
    "\n",
    "# create a DataFrame from the array\n",
    "df_model_norm_vars = pd.DataFrame(norm_array, columns = norm_vars, index = df_model.index)\n",
    "\n",
    "# merge new DataFrame with full dataframe model \n",
    "df_model_merged = pd.merge(df_model_norm_vars,df_model.drop(norm_vars,axis=1), right_index=True, left_index=True)\n",
    "\n",
    "# create combined column for beds, bedrooms and acommodates\n",
    "df_model_merged['combine_beds_bedrooms_acommodates'] = df_model_merged['beds'] + df_model_merged['bedrooms'] + df['accommodates']\n",
    "\n",
    "# drop already combined variables\n",
    "df_model_merged = df_model_merged.drop(['beds','bedrooms','accommodates'],axis=1)"
   ]
  },
  {
   "cell_type": "markdown",
   "execution_count": null,
   "metadata": {},
   "source": [
    "# # Check normal distribution of all numerical input variables "
   ]
  },
  {
   "cell_type": "code",
   "execution_count": 32,
   "metadata": {},
   "outputs": [
    {
     "name": "stdout",
     "output_type": "stream",
     "text": [
      "Figure(432x288)\n",
      "Figure(432x288)\n",
      "Figure(432x288)\n",
      "Figure(432x288)\n",
      "Figure(432x288)\n",
      "Figure(432x288)\n",
      "Figure(432x288)\n",
      "Figure(432x288)\n",
      "Figure(432x288)\n",
      "Figure(432x288)\n",
      "Figure(432x288)\n",
      "Figure(432x288)\n",
      "Figure(432x288)\n",
      "Figure(432x288)\n",
      "Figure(432x288)\n",
      "Figure(432x288)\n",
      "Figure(432x288)\n",
      "Figure(432x288)\n",
      "Figure(432x288)\n",
      "Figure(432x288)\n"
     ]
    },
    {
     "data": {
      "image/png": "[encoded data removed]",
      "text/plain": [
       "<Figure size 432x288 with 1 Axes>"
      ]
     },
     "metadata": {
      "needs_background": "light"
     },
     "output_type": "display_data"
    },
    {
     "data": {
      "image/png": "[encoded data removed]",
      "text/plain": [
       "<Figure size 432x288 with 1 Axes>"
      ]
     },
     "metadata": {
      "needs_background": "light"
     },
     "output_type": "display_data"
    },
    {
     "data": {
      "image/png": "[encoded data removed]",
      "text/plain": [
       "<Figure size 432x288 with 1 Axes>"
      ]
     },
     "metadata": {
      "needs_background": "light"
     },
     "output_type": "display_data"
    },
    {
     "data": {
      "image/png": "[encoded data removed]",
      "text/plain": [
       "<Figure size 432x288 with 1 Axes>"
      ]
     },
     "metadata": {
      "needs_background": "light"
     },
     "output_type": "display_data"
    },
    {
     "data": {
      "image/png": "[encoded data removed]",
      "text/plain": [
       "<Figure size 432x288 with 1 Axes>"
      ]
     },
     "metadata": {
      "needs_background": "light"
     },
     "output_type": "display_data"
    },
    {
     "data": {
      "image/png": "[encoded data removed]",
      "text/plain": [
       "<Figure size 432x288 with 1 Axes>"
      ]
     },
     "metadata": {
      "needs_background": "light"
     },
     "output_type": "display_data"
    },
    {
     "data": {
      "image/png": "[encoded data removed]",
      "text/plain": [
       "<Figure size 432x288 with 1 Axes>"
      ]
     },
     "metadata": {
      "needs_background": "light"
     },
     "output_type": "display_data"
    },
    {
     "data": {
      "image/png": "[encoded data removed]",
      "text/plain": [
       "<Figure size 432x288 with 1 Axes>"
      ]
     },
     "metadata": {
      "needs_background": "light"
     },
     "output_type": "display_data"
    },
    {
     "data": {
      "image/png": "[encoded data removed]",
      "text/plain": [
       "<Figure size 432x288 with 1 Axes>"
      ]
     },
     "metadata": {
      "needs_background": "light"
     },
     "output_type": "display_data"
    },
    {
     "data": {
      "image/png": "[encoded data removed]",
      "text/plain": [
       "<Figure size 432x288 with 1 Axes>"
      ]
     },
     "metadata": {
      "needs_background": "light"
     },
     "output_type": "display_data"
    },
    {
     "data": {
      "image/png": "[encoded data removed]",
      "text/plain": [
       "<Figure size 432x288 with 1 Axes>"
      ]
     },
     "metadata": {
      "needs_background": "light"
     },
     "output_type": "display_data"
    },
    {
     "data": {
      "image/png": "[encoded data removed]",
      "text/plain": [
       "<Figure size 432x288 with 1 Axes>"
      ]
     },
     "metadata": {
      "needs_background": "light"
     },
     "output_type": "display_data"
    },
    {
     "data": {
      "image/png": "[encoded data removed]",
      "text/plain": [
       "<Figure size 432x288 with 1 Axes>"
      ]
     },
     "metadata": {
      "needs_background": "light"
     },
     "output_type": "display_data"
    },
    {
     "data": {
      "image/png": "[encoded data removed]",
      "text/plain": [
       "<Figure size 432x288 with 1 Axes>"
      ]
     },
     "metadata": {
      "needs_background": "light"
     },
     "output_type": "display_data"
    },
    {
     "data": {
      "image/png": "[encoded data removed]",
      "text/plain": [
       "<Figure size 432x288 with 1 Axes>"
      ]
     },
     "metadata": {
      "needs_background": "light"
     },
     "output_type": "display_data"
    },
    {
     "data": {
      "image/png": "[encoded data removed]",
      "text/plain": [
       "<Figure size 432x288 with 1 Axes>"
      ]
     },
     "metadata": {
      "needs_background": "light"
     },
     "output_type": "display_data"
    },
    {
     "data": {
      "image/png": "[encoded data removed]",
      "text/plain": [
       "<Figure size 432x288 with 1 Axes>"
      ]
     },
     "metadata": {
      "needs_background": "light"
     },
     "output_type": "display_data"
    },
    {
     "data": {
      "image/png": "[encoded data removed]",
      "text/plain": [
       "<Figure size 432x288 with 1 Axes>"
      ]
     },
     "metadata": {
      "needs_background": "light"
     },
     "output_type": "display_data"
    },
    {
     "data": {
      "image/png": "[encoded data removed]",
      "text/plain": [
       "<Figure size 432x288 with 1 Axes>"
      ]
     },
     "metadata": {
      "needs_background": "light"
     },
     "output_type": "display_data"
    },
    {
     "data": {
      "image/png": "[encoded data removed]",
      "text/plain": [
       "<Figure size 432x288 with 1 Axes>"
      ]
     },
     "metadata": {
      "needs_background": "light"
     },
     "output_type": "display_data"
    }
   ],
   "source": [
    "# Histograms of all vars with power transformation BoxCox\n",
    "\n",
    "# set vars to check\n",
    "check_vars = ['host_since', 'host_listings_count', 'bathrooms',\n",
    "       'price', 'minimum_nights', 'maximum_nights',\n",
    "       'number_of_reviews', 'review_scores_rating',\n",
    "       'review_scores_communication', 'review_scores_location',\n",
    "       'review_scores_value','combine_beds_bedrooms_acommodates',\n",
    "           'reviews_per_month','availability_30', 'availability_60','availability_90', 'availability_365',\n",
    "            'review_scores_accuracy','review_scores_cleanliness', 'review_scores_checkin']\n",
    "\n",
    "# For loop on showing separate histograms per item\n",
    "i = 0\n",
    "for x in check_vars:\n",
    "    # set data\n",
    "    data = df_model_merged[x]\n",
    "    \n",
    "    # plot\n",
    "    plt.figure(i)\n",
    "    plt.title(x)\n",
    "    plt.hist(data)\n",
    "    print(plt.figure(i))\n",
    "    \n",
    "    # iterate \n",
    "    i = i + 1\n",
    "    \n",
    "\n"
   ]
  },
  {
   "cell_type": "code",
   "execution_count": 33,
   "metadata": {},
   "outputs": [],
   "source": [
    "# list of variables that need to be transformed to fit a normal distribution\n",
    "\n",
    "to_check_vars = ['price','host_listings_count','bathrooms','minimum_nights','maximum_nights','number_of_reviews','review_scores_rating',\n",
    "            'review_scores_communication','review_scores_location','review_scores_value','review_scores_accuracy',\n",
    "             'review_scores_cleanliness','review_scores_checkin',\n",
    "             'combine_beds_bedrooms_acommodates',\n",
    "            'reviews_per_month'\n",
    "           ]\n",
    "\n",
    "\n",
    "poly_vars = ['availability_30','availability_60','availability_90','availability_365']"
   ]
  },
  {
   "cell_type": "markdown",
   "execution_count": null,
   "metadata": {},
   "source": [
    "# Boxcox transform and check outputs"
   ]
  },
  {
   "cell_type": "code",
   "execution_count": 34,
   "metadata": {},
   "outputs": [
    {
     "name": "stdout",
     "output_type": "stream",
     "text": [
      "0.2534562309914616\n",
      "Figure(432x288)\n",
      "-2.3241433733344725\n",
      "Figure(432x288)\n",
      "-1.5332310285044504\n",
      "Figure(432x288)\n",
      "-0.8014419021313236\n",
      "Figure(432x288)\n",
      "0.23858506041279126\n",
      "Figure(432x288)\n",
      "-0.1572377035378883\n",
      "Figure(432x288)\n",
      "11.421728636272807\n",
      "Figure(432x288)\n",
      "46.93358536691012\n",
      "Figure(432x288)\n",
      "8.231315141175584\n",
      "Figure(432x288)\n",
      "5.1890734888226575\n",
      "Figure(432x288)\n",
      "25.866779983941093\n",
      "Figure(432x288)\n",
      "11.23399081704968\n",
      "Figure(432x288)\n",
      "36.91339959827809\n",
      "Figure(432x288)\n",
      "-2.033665923323398\n",
      "Figure(432x288)\n",
      "-1.1446132488346121\n",
      "Figure(432x288)\n"
     ]
    },
    {
     "data": {
      "image/png": "[encoded data removed]",
      "text/plain": [
       "<Figure size 432x288 with 1 Axes>"
      ]
     },
     "metadata": {
      "needs_background": "light"
     },
     "output_type": "display_data"
    },
    {
     "data": {
      "image/png": "[encoded data removed]",
      "text/plain": [
       "<Figure size 432x288 with 1 Axes>"
      ]
     },
     "metadata": {
      "needs_background": "light"
     },
     "output_type": "display_data"
    },
    {
     "data": {
      "image/png": "[encoded data removed]",
      "text/plain": [
       "<Figure size 432x288 with 1 Axes>"
      ]
     },
     "metadata": {
      "needs_background": "light"
     },
     "output_type": "display_data"
    },
    {
     "data": {
      "image/png": "[encoded data removed]",
      "text/plain": [
       "<Figure size 432x288 with 1 Axes>"
      ]
     },
     "metadata": {
      "needs_background": "light"
     },
     "output_type": "display_data"
    },
    {
     "data": {
      "image/png": "[encoded data removed]",
      "text/plain": [
       "<Figure size 432x288 with 1 Axes>"
      ]
     },
     "metadata": {
      "needs_background": "light"
     },
     "output_type": "display_data"
    },
    {
     "data": {
      "image/png": "[encoded data removed]",
      "text/plain": [
       "<Figure size 432x288 with 1 Axes>"
      ]
     },
     "metadata": {
      "needs_background": "light"
     },
     "output_type": "display_data"
    },
    {
     "data": {
      "image/png": "[encoded data removed]",
      "text/plain": [
       "<Figure size 432x288 with 1 Axes>"
      ]
     },
     "metadata": {
      "needs_background": "light"
     },
     "output_type": "display_data"
    },
    {
     "data": {
      "image/png": "[encoded data removed]",
      "text/plain": [
       "<Figure size 432x288 with 1 Axes>"
      ]
     },
     "metadata": {
      "needs_background": "light"
     },
     "output_type": "display_data"
    },
    {
     "data": {
      "image/png": "[encoded data removed]",
      "text/plain": [
       "<Figure size 432x288 with 1 Axes>"
      ]
     },
     "metadata": {
      "needs_background": "light"
     },
     "output_type": "display_data"
    },
    {
     "data": {
      "image/png": "[encoded data removed]",
      "text/plain": [
       "<Figure size 432x288 with 1 Axes>"
      ]
     },
     "metadata": {
      "needs_background": "light"
     },
     "output_type": "display_data"
    },
    {
     "data": {
      "image/png": "[encoded data removed]",
      "text/plain": [
       "<Figure size 432x288 with 1 Axes>"
      ]
     },
     "metadata": {
      "needs_background": "light"
     },
     "output_type": "display_data"
    },
    {
     "data": {
      "image/png": "[encoded data removed]",
      "text/plain": [
       "<Figure size 432x288 with 1 Axes>"
      ]
     },
     "metadata": {
      "needs_background": "light"
     },
     "output_type": "display_data"
    },
    {
     "data": {
      "image/png": "[encoded data removed]",
      "text/plain": [
       "<Figure size 432x288 with 1 Axes>"
      ]
     },
     "metadata": {
      "needs_background": "light"
     },
     "output_type": "display_data"
    },
    {
     "data": {
      "image/png": "[encoded data removed]",
      "text/plain": [
       "<Figure size 432x288 with 1 Axes>"
      ]
     },
     "metadata": {
      "needs_background": "light"
     },
     "output_type": "display_data"
    },
    {
     "data": {
      "image/png": "[encoded data removed]",
      "text/plain": [
       "<Figure size 432x288 with 1 Axes>"
      ]
     },
     "metadata": {
      "needs_background": "light"
     },
     "output_type": "display_data"
    }
   ],
   "source": [
    "# For loop on showing separate histograms per item\n",
    "i = 0\n",
    "for x in to_check_vars:\n",
    "    plt.figure(i)\n",
    "    plt.title(x)\n",
    "    \n",
    "    # power transform\n",
    "    data = df_model_merged[x] + 1\n",
    "    data = boxcox(data)\n",
    "    \n",
    "    #print the boxcox lambda value\n",
    "    print(data[1])\n",
    "    \n",
    "    #plot the graph\n",
    "    plt.hist(data)\n",
    "    print(plt.figure(i))\n",
    "    \n",
    "    #increment the counter\n",
    "    i = i + 1"
   ]
  },
  {
   "cell_type": "markdown",
   "execution_count": null,
   "metadata": {},
   "source": [
    "# Mark variables that can fit a normal distribution and get rid a few others"
   ]
  },
  {
   "cell_type": "code",
   "execution_count": 35,
   "metadata": {},
   "outputs": [],
   "source": [
    "# variables to keep and boxcox transform \n",
    "boxcox_vars = ['price','number_of_reviews','review_scores_rating',\n",
    "            'review_scores_location','review_scores_value'\n",
    "              ,'combine_beds_bedrooms_acommodates']\n",
    "\n",
    "\n",
    "# variables to drop\n",
    "to_drop = ['host_listings_count','bathrooms','minimum_nights','maximum_nights',\n",
    "           'review_scores_communication','review_scores_accuracy','review_scores_cleanliness',\n",
    "           'review_scores_checkin','reviews_per_month']"
   ]
  },
  {
   "cell_type": "code",
   "execution_count": 36,
   "metadata": {},
   "outputs": [],
   "source": [
    "#drop variables\n",
    "df_model_merged = df_model_merged.drop(to_drop,axis=1)\n",
    "\n",
    "#drop poly variables\n",
    "df_model_merged = df_model_merged.drop(poly_vars,axis=1)\n"
   ]
  },
  {
   "cell_type": "markdown",
   "execution_count": null,
   "metadata": {},
   "source": [
    "# Boxcox transform needed variables"
   ]
  },
  {
   "cell_type": "code",
   "execution_count": 37,
   "metadata": {},
   "outputs": [],
   "source": [
    "# create boxcox in dataframe function\n",
    "def create_boxcox_df(df, boxcox_vars):\n",
    "    '''\n",
    "    INPUT:\n",
    "    df - pandas dataframe with categorical variables you want to dummy\n",
    "    boxcox_vars - list of strings that are associated with selected boxcox columns\n",
    "    \n",
    "    OUTPUT:\n",
    "    df - a new dataframe that has the following characteristics:\n",
    "            1. contains all columns that were not specified as boxcox columns\n",
    "            2. removes all the original columns in boxcox_vars\n",
    "            3. boxcox transforms for each of the boxcox columns in boxcox_vars\n",
    "            4. returns df\n",
    "            5. returns list of lambda values for maxlog()\n",
    "    '''\n",
    "    #iniate empty list\n",
    "    lambda_list = list()\n",
    "    \n",
    "    #start for loop\n",
    "    for col in boxcox_vars:\n",
    "        try:\n",
    "            # for each var boxcox transform\n",
    "            data = df[col] +1\n",
    "            data = boxcox(data)\n",
    "            \n",
    "            #lambda list append\n",
    "            lambda_list.append(data[1])\n",
    "            \n",
    "            #create dataframe from array\n",
    "            df_insert = pd.DataFrame(data[0],columns = [col],index = df_model_merged.index)\n",
    "            \n",
    "            #concat dataframes\n",
    "            df = pd.merge(df_insert,df.drop(col, axis=1), right_index=True, left_index=True)\n",
    "\n",
    "            \n",
    "        except:\n",
    "            continue\n",
    "    return df, lambda_list"
   ]
  },
  {
   "cell_type": "code",
   "execution_count": 38,
   "metadata": {},
   "outputs": [],
   "source": [
    "# apply to dataframe\n",
    "df_model_merged, lambda_list = create_boxcox_df(df_model_merged,boxcox_vars=boxcox_vars)\n"
   ]
  },
  {
   "cell_type": "code",
   "execution_count": 39,
   "metadata": {},
   "outputs": [
    {
     "data": {
      "image/png": "[encoded data removed]",
      "text/plain": [
       "<Figure size 432x288 with 6 Axes>"
      ]
     },
     "metadata": {
      "needs_background": "light"
     },
     "output_type": "display_data"
    },
    {
     "name": "stdout",
     "output_type": "stream",
     "text": [
      "None\n"
     ]
    }
   ],
   "source": [
    "# histograms of the variables\n",
    "df_hist = df_model_merged[boxcox_vars]\n",
    "\n",
    "df_hist.hist()\n",
    "print(plt.show())"
   ]
  },
  {
   "cell_type": "markdown",
   "execution_count": null,
   "metadata": {},
   "source": [
    "# Standardization with StandardScaler"
   ]
  },
  {
   "cell_type": "code",
   "execution_count": 40,
   "metadata": {},
   "outputs": [],
   "source": [
    "# performing preprocessing part \n",
    "from sklearn.preprocessing import StandardScaler\n",
    "\n",
    "# take all the variables that we want to standardize \n",
    "scaler_vars = ['number_of_reviews','review_scores_rating',\n",
    "            'review_scores_location','review_scores_value'\n",
    "              ,'combine_beds_bedrooms_acommodates']\n",
    "\n",
    "\n",
    "# initiate standardscaler and apply to data\n",
    "sc = StandardScaler()\n",
    "scaled_array = sc.fit_transform(df_model_merged[scaler_vars])\n",
    "\n",
    "# create new dataframe with scaled variables\n",
    "df_model_scaled = pd.DataFrame(scaled_array, columns = scaler_vars, index = df_model.index)\n",
    "\n",
    "# merge them all back together\n",
    "df_model_merged = pd.merge(df_model_scaled,df_model_merged.drop(scaler_vars,axis=1), right_index=True, left_index=True)\n",
    "\n",
    "#print(df_model_merged.describe())"
   ]
  },
  {
   "cell_type": "code",
   "execution_count": 41,
   "metadata": {},
   "outputs": [
    {
     "data": {
      "image/png": "[encoded data removed]",
      "text/plain": [
       "<Figure size 432x288 with 6 Axes>"
      ]
     },
     "metadata": {
      "needs_background": "light"
     },
     "output_type": "display_data"
    },
    {
     "name": "stdout",
     "output_type": "stream",
     "text": [
      "None\n"
     ]
    }
   ],
   "source": [
    "# histograms of the variables\n",
    "df_hist = df_model_merged[boxcox_vars]\n",
    "\n",
    "df_hist.hist()\n",
    "print(plt.show())"
   ]
  },
  {
   "cell_type": "markdown",
   "execution_count": null,
   "metadata": {},
   "source": [
    "# Look at all adapted distributions"
   ]
  },
  {
   "cell_type": "code",
   "execution_count": 42,
   "metadata": {},
   "outputs": [
    {
     "data": {
      "text/plain": [
       "<function matplotlib.pyplot.show(*args, **kw)>"
      ]
     },
     "execution_count": 42,
     "metadata": {},
     "output_type": "execute_result"
    },
    {
     "data": {
      "image/png": "[encoded data removed]",
      "text/plain": [
       "<Figure size 432x288 with 6 Axes>"
      ]
     },
     "metadata": {
      "needs_background": "light"
     },
     "output_type": "display_data"
    }
   ],
   "source": [
    "# histograms of the variables\n",
    "df_hist = df_model_merged[boxcox_vars]\n",
    "\n",
    "df_hist.hist()\n",
    "plt.show\n",
    "\n"
   ]
  },
  {
   "cell_type": "markdown",
   "execution_count": null,
   "metadata": {},
   "source": [
    "# Check for Multicollinearity"
   ]
  },
  {
   "cell_type": "code",
   "execution_count": 43,
   "metadata": {},
   "outputs": [
    {
     "data": {
      "text/plain": [
       "<matplotlib.axes._subplots.AxesSubplot at 0x7f112d6cc250>"
      ]
     },
     "execution_count": 43,
     "metadata": {},
     "output_type": "execute_result"
    },
    {
     "data": {
      "image/png": "[encoded data removed]",
      "text/plain": [
       "<Figure size 864x648 with 2 Axes>"
      ]
     },
     "metadata": {
      "needs_background": "light"
     },
     "output_type": "display_data"
    }
   ],
   "source": [
    "num_vars = ['host_since','price','number_of_reviews', 'review_scores_rating', 'review_scores_location','review_scores_value']\n",
    "\n",
    "#df_plot = df_model_merged.select_dtypes(include=[np.number])\n",
    "df_plot = df_model_merged[num_vars]\n",
    "\n",
    "matrix = np.triu(df_plot.corr())\n",
    "\n",
    "plt.figure(figsize=(12, 9))\n",
    "sns.heatmap(df_plot.corr(), annot=False, mask=matrix, linewidths=.5, fmt='.1f')"
   ]
  },
  {
   "cell_type": "markdown",
   "execution_count": null,
   "metadata": {},
   "source": [
    "# Take out variables where needed to avoid multicollinearity"
   ]
  },
  {
   "cell_type": "code",
   "execution_count": 44,
   "metadata": {},
   "outputs": [],
   "source": [
    "# based on above correlation matrix, take out a few columns\n",
    "df_model_merged = df_model_merged.drop(['review_scores_value'],axis=1)\n",
    "\n"
   ]
  },
  {
   "cell_type": "markdown",
   "execution_count": null,
   "metadata": {},
   "source": [
    "# Modeling\n",
    "\n",
    "* Implement Sklearn Linear Regression\n",
    "* Refine with some PolyNomial Features\n",
    "* Implement Sklearn RandomForestRegressor\n",
    "* Implement Statsmodels OLS\n",
    "* Implement H2O AutoML\n"
   ]
  },
  {
   "cell_type": "code",
   "execution_count": 45,
   "metadata": {},
   "outputs": [],
   "source": [
    "def fit_linear_mod(df, response_col, test_size=.3, rand_state=42):\n",
    "    '''\n",
    "    INPUT:\n",
    "    df - a dataframe holding all the variables of interest\n",
    "    response_col - a string holding the name of the column\n",
    "    test_size - a float between [0,1] about what proportion of data should be in the test dataset\n",
    "    rand_state - an int that is provided as the random state for splitting the data into training and test \n",
    "    \n",
    "    OUTPUT:\n",
    "    test_score - float - r2 score on the test data\n",
    "    train_score - float - r2 score on the test data\n",
    "    lm_model - model object from sklearn\n",
    "    X_train, X_test, y_train, y_test - output from sklearn train test split used for optimal model\n",
    "    \n",
    "    This function should:\n",
    "    1. Split your data into an X matrix and a response vector y\n",
    "    2. Create training and test sets of data\n",
    "    3. Instantiate a LinearRegression model with normalized data\n",
    "    4. Fit your model to the training data\n",
    "    5. Predict the response for the training data and the test data\n",
    "    6. Obtain an rsquared value for both the training and test data\n",
    "    '''\n",
    "\n",
    "    #Split into explanatory and response variables\n",
    "    X = df.drop(response_col, axis=1)\n",
    "    y = df[response_col]\n",
    "\n",
    "    #Split into train and test\n",
    "    X_train, X_test, y_train, y_test = train_test_split(X, y, test_size=test_size, random_state=rand_state)\n",
    "\n",
    "    lm_model = LinearRegression(normalize=True) # Instantiate\n",
    "    lm_model.fit(X_train, y_train) #Fit\n",
    "\n",
    "    #Predict using your model\n",
    "    y_test_preds = lm_model.predict(X_test)\n",
    "    y_train_preds = lm_model.predict(X_train)\n",
    "\n",
    "    #Score using your model\n",
    "    test_score = r2_score(y_test, y_test_preds)\n",
    "    train_score = r2_score(y_train, y_train_preds)\n",
    "\n",
    "    return test_score, train_score, lm_model, X_train, X_test, y_train, y_test, y_test_preds, y_train_preds"
   ]
  },
  {
   "cell_type": "markdown",
   "execution_count": null,
   "metadata": {},
   "source": [
    "# Use dataframe before preprocessing"
   ]
  },
  {
   "cell_type": "code",
   "execution_count": 46,
   "metadata": {},
   "outputs": [
    {
     "name": "stdout",
     "output_type": "stream",
     "text": [
      "The rsquared on the training data was 0.510845059063316.  The rsquared on the test data was 0.486290227453942.\n",
      "Root Mean Squared Error: 37.19516677749995\n"
     ]
    }
   ],
   "source": [
    "\n",
    "#Test your function with the above dataset\n",
    "test_score, train_score, lm_model, X_train, X_test, y_train, y_test, y_test_preds, y_train_preds = fit_linear_mod(df_model, 'price')\n",
    "\n",
    "#Print training and testing score\n",
    "print(\"The rsquared on the training data was {}.  The rsquared on the test data was {}.\".format(train_score, test_score))\n",
    "\n",
    "# The coefficients\n",
    "#print('Coefficients: \\n', lm_model.coef_)\n",
    "\n",
    "# print RMSE\n",
    "print('Root Mean Squared Error:', np.sqrt(metrics.mean_squared_error(y_test, y_test_preds)))"
   ]
  },
  {
   "cell_type": "markdown",
   "execution_count": null,
   "metadata": {},
   "source": [
    "# Use dataframe after preprocessing"
   ]
  },
  {
   "cell_type": "code",
   "execution_count": 47,
   "metadata": {},
   "outputs": [
    {
     "name": "stdout",
     "output_type": "stream",
     "text": [
      "The rsquared on the training data was 0.4965681743295157.  The rsquared on the test data was 0.4844860451310212.\n",
      "Root Mean Squared Error: 0.9659187839174531\n"
     ]
    }
   ],
   "source": [
    "# after preprocessing\n",
    "\n",
    "#Test your function with the above dataset\n",
    "test_score, train_score, lm_model, X_train, X_test, y_train, y_test, y_test_preds, y_train_preds = fit_linear_mod(df_model_merged, 'price')\n",
    "\n",
    "#Print training and testing score\n",
    "print(\"The rsquared on the training data was {}.  The rsquared on the test data was {}.\".format(train_score, test_score))\n",
    "\n",
    "# The coefficients\n",
    "#print('Coefficients: \\n', lm_model.coef_)\n",
    "\n",
    "# print RMSE\n",
    "print('Root Mean Squared Error:', np.sqrt(metrics.mean_squared_error(y_test, y_test_preds)))"
   ]
  },
  {
   "cell_type": "markdown",
   "execution_count": null,
   "metadata": {},
   "source": [
    "# PCA analysis\n"
   ]
  },
  {
   "cell_type": "code",
   "execution_count": 48,
   "metadata": {},
   "outputs": [
    {
     "name": "stdout",
     "output_type": "stream",
     "text": [
      "[9.99980112e-01 3.18419367e-06 2.65594483e-06 2.25795022e-06\n",
      " 1.59205322e-06 9.19637797e-07 7.50607380e-07 6.38398647e-07\n",
      " 5.10322131e-07 4.92027916e-07 4.64937129e-07 4.52465108e-07\n",
      " 4.12142015e-07 3.74650064e-07 3.69266454e-07 3.63693307e-07\n",
      " 2.89047856e-07 2.63966388e-07 2.48341608e-07 2.15450351e-07\n",
      " 2.05381862e-07 1.90919665e-07 1.85939980e-07 1.73633238e-07\n",
      " 1.71833003e-07 1.66502012e-07 1.60569446e-07 1.55239777e-07\n",
      " 1.42425178e-07 1.36198541e-07 1.27171034e-07 1.25279653e-07\n",
      " 1.21448631e-07 1.20090110e-07 1.18287885e-07 1.04742373e-07\n",
      " 9.20361875e-08 8.75769942e-08 6.61766835e-08 6.31681062e-08\n",
      " 5.87379466e-08 5.65867673e-08 5.01622915e-08 4.90440585e-08\n",
      " 4.70912698e-08 4.38245510e-08 4.23253537e-08 4.02716586e-08\n",
      " 3.79559812e-08 3.68279396e-08 2.97642991e-08 2.81281371e-08\n",
      " 2.64419567e-08 2.40721523e-08 2.13599608e-08 1.86860582e-08\n",
      " 1.54514775e-08 1.48003749e-08 1.19585964e-08 9.00668269e-09\n",
      " 7.83840250e-09 7.70729776e-09 7.60817209e-09 5.92157246e-09\n",
      " 5.29804666e-09 4.63156954e-09 3.19176021e-09 2.08110379e-09\n",
      " 2.01503278e-09 1.83945974e-09 1.46457199e-09 1.22794028e-09\n",
      " 1.07290155e-09 7.18182382e-10 6.76095417e-10 6.15300663e-10\n",
      " 5.53666826e-10 2.69346197e-10 2.05506345e-10 2.05425711e-10\n",
      " 2.05049219e-10 2.04515998e-10 2.03781200e-10 2.02749998e-10\n",
      " 1.78624028e-10 7.48192518e-12 9.27587695e-33]\n"
     ]
    }
   ],
   "source": [
    "# Applying PCA function on training \n",
    "from sklearn.decomposition import PCA \n",
    "  \n",
    "pca = PCA()\n",
    "  \n",
    "X_train = pca.fit_transform(X_train) \n",
    "  \n",
    "explained_variance = pca.explained_variance_ratio_\n",
    "print(explained_variance)"
   ]
  },
  {
   "cell_type": "markdown",
   "execution_count": null,
   "metadata": {},
   "source": [
    "# Implement Statsmodels OLS"
   ]
  },
  {
   "cell_type": "code",
   "execution_count": 49,
   "metadata": {},
   "outputs": [
    {
     "name": "stdout",
     "output_type": "stream",
     "text": [
      "0.957832830818356\n"
     ]
    },
    {
     "data": {
      "text/html": [
       "<table class=\"simpletable\">\n",
       "<caption>OLS Regression Results</caption>\n",
       "<tr>\n",
       "  <th>Dep. Variable:</th>          <td>price</td>      <th>  R-squared:         </th> <td>   0.494</td> \n",
       "</tr>\n",
       "<tr>\n",
       "  <th>Model:</th>                   <td>OLS</td>       <th>  Adj. R-squared:    </th> <td>   0.492</td> \n",
       "</tr>\n",
       "<tr>\n",
       "  <th>Method:</th>             <td>Least Squares</td>  <th>  F-statistic:       </th> <td>   181.5</td> \n",
       "</tr>\n",
       "<tr>\n",
       "  <th>Date:</th>             <td>Thu, 25 Jun 2020</td> <th>  Prob (F-statistic):</th>  <td>  0.00</td>  \n",
       "</tr>\n",
       "<tr>\n",
       "  <th>Time:</th>                 <td>00:36:33</td>     <th>  Log-Likelihood:    </th> <td> -22095.</td> \n",
       "</tr>\n",
       "<tr>\n",
       "  <th>No. Observations:</th>      <td> 16059</td>      <th>  AIC:               </th> <td>4.436e+04</td>\n",
       "</tr>\n",
       "<tr>\n",
       "  <th>Df Residuals:</th>          <td> 15972</td>      <th>  BIC:               </th> <td>4.503e+04</td>\n",
       "</tr>\n",
       "<tr>\n",
       "  <th>Df Model:</th>              <td>    86</td>      <th>                     </th>     <td> </td>    \n",
       "</tr>\n",
       "<tr>\n",
       "  <th>Covariance Type:</th>      <td>nonrobust</td>    <th>                     </th>     <td> </td>    \n",
       "</tr>\n",
       "</table>\n",
       "<table class=\"simpletable\">\n",
       "<tr>\n",
       "                                <td></td>                                   <th>coef</th>     <th>std err</th>      <th>t</th>      <th>P>|t|</th>  <th>[0.025</th>    <th>0.975]</th>  \n",
       "</tr>\n",
       "<tr>\n",
       "  <th>const</th>                                                         <td>    8.8062</td> <td>    0.803</td> <td>   10.969</td> <td> 0.000</td> <td>    7.233</td> <td>   10.380</td>\n",
       "</tr>\n",
       "<tr>\n",
       "  <th>number_of_reviews</th>                                             <td>   -0.0387</td> <td>    0.009</td> <td>   -4.090</td> <td> 0.000</td> <td>   -0.057</td> <td>   -0.020</td>\n",
       "</tr>\n",
       "<tr>\n",
       "  <th>review_scores_rating</th>                                          <td>    0.0853</td> <td>    0.009</td> <td>    9.784</td> <td> 0.000</td> <td>    0.068</td> <td>    0.102</td>\n",
       "</tr>\n",
       "<tr>\n",
       "  <th>review_scores_location</th>                                        <td>    0.0880</td> <td>    0.009</td> <td>    9.608</td> <td> 0.000</td> <td>    0.070</td> <td>    0.106</td>\n",
       "</tr>\n",
       "<tr>\n",
       "  <th>combine_beds_bedrooms_acommodates</th>                             <td>    0.5385</td> <td>    0.009</td> <td>   59.810</td> <td> 0.000</td> <td>    0.521</td> <td>    0.556</td>\n",
       "</tr>\n",
       "<tr>\n",
       "  <th>host_since</th>                                                    <td>-6.108e-06</td> <td> 1.32e-05</td> <td>   -0.462</td> <td> 0.644</td> <td> -3.2e-05</td> <td> 1.98e-05</td>\n",
       "</tr>\n",
       "<tr>\n",
       "  <th>host_is_superhost</th>                                             <td>    0.0950</td> <td>    0.023</td> <td>    4.189</td> <td> 0.000</td> <td>    0.051</td> <td>    0.139</td>\n",
       "</tr>\n",
       "<tr>\n",
       "  <th>host_has_profile_pic</th>                                          <td>   -0.1071</td> <td>    0.304</td> <td>   -0.352</td> <td> 0.725</td> <td>   -0.704</td> <td>    0.490</td>\n",
       "</tr>\n",
       "<tr>\n",
       "  <th>host_identity_verified</th>                                        <td>   -0.0365</td> <td>    0.017</td> <td>   -2.177</td> <td> 0.029</td> <td>   -0.069</td> <td>   -0.004</td>\n",
       "</tr>\n",
       "<tr>\n",
       "  <th>is_location_exact</th>                                             <td>    0.0433</td> <td>    0.017</td> <td>    2.584</td> <td> 0.010</td> <td>    0.010</td> <td>    0.076</td>\n",
       "</tr>\n",
       "<tr>\n",
       "  <th>instant_bookable</th>                                              <td>    0.0665</td> <td>    0.019</td> <td>    3.472</td> <td> 0.001</td> <td>    0.029</td> <td>    0.104</td>\n",
       "</tr>\n",
       "<tr>\n",
       "  <th>is_business_travel_ready</th>                                      <td>-1.396e-14</td> <td> 9.87e-15</td> <td>   -1.414</td> <td> 0.157</td> <td>-3.33e-14</td> <td> 5.39e-15</td>\n",
       "</tr>\n",
       "<tr>\n",
       "  <th>require_guest_profile_picture</th>                                 <td>    0.1597</td> <td>    0.104</td> <td>    1.534</td> <td> 0.125</td> <td>   -0.044</td> <td>    0.364</td>\n",
       "</tr>\n",
       "<tr>\n",
       "  <th>require_guest_phone_verification</th>                              <td>   -0.0678</td> <td>    0.091</td> <td>   -0.742</td> <td> 0.458</td> <td>   -0.247</td> <td>    0.111</td>\n",
       "</tr>\n",
       "<tr>\n",
       "  <th>has_tv</th>                                                        <td>    0.2157</td> <td>    0.053</td> <td>    4.080</td> <td> 0.000</td> <td>    0.112</td> <td>    0.319</td>\n",
       "</tr>\n",
       "<tr>\n",
       "  <th>has_fireplace</th>                                                 <td>    0.3811</td> <td>    0.038</td> <td>   10.091</td> <td> 0.000</td> <td>    0.307</td> <td>    0.455</td>\n",
       "</tr>\n",
       "<tr>\n",
       "  <th>has_kitchen</th>                                                   <td>   -0.0650</td> <td>    0.032</td> <td>   -2.044</td> <td> 0.041</td> <td>   -0.127</td> <td>   -0.003</td>\n",
       "</tr>\n",
       "<tr>\n",
       "  <th>has_family_friendly</th>                                           <td>    0.0596</td> <td>    0.017</td> <td>    3.461</td> <td> 0.001</td> <td>    0.026</td> <td>    0.093</td>\n",
       "</tr>\n",
       "<tr>\n",
       "  <th>has_host_greeting</th>                                             <td>    0.1399</td> <td>    0.018</td> <td>    7.889</td> <td> 0.000</td> <td>    0.105</td> <td>    0.175</td>\n",
       "</tr>\n",
       "<tr>\n",
       "  <th>has_24hrs_checkin</th>                                             <td>    0.0670</td> <td>    0.026</td> <td>    2.573</td> <td> 0.010</td> <td>    0.016</td> <td>    0.118</td>\n",
       "</tr>\n",
       "<tr>\n",
       "  <th>has_breakfast</th>                                                 <td>    0.0400</td> <td>    0.031</td> <td>    1.298</td> <td> 0.194</td> <td>   -0.020</td> <td>    0.100</td>\n",
       "</tr>\n",
       "<tr>\n",
       "  <th>has_pets</th>                                                      <td>   -0.0993</td> <td>    0.033</td> <td>   -3.008</td> <td> 0.003</td> <td>   -0.164</td> <td>   -0.035</td>\n",
       "</tr>\n",
       "<tr>\n",
       "  <th>has_dishwasher</th>                                                <td>    0.0695</td> <td>    0.027</td> <td>    2.603</td> <td> 0.009</td> <td>    0.017</td> <td>    0.122</td>\n",
       "</tr>\n",
       "<tr>\n",
       "  <th>has_private_entrance</th>                                          <td>    0.0716</td> <td>    0.018</td> <td>    3.879</td> <td> 0.000</td> <td>    0.035</td> <td>    0.108</td>\n",
       "</tr>\n",
       "<tr>\n",
       "  <th>has_patio_balcony</th>                                             <td>    0.0197</td> <td>    0.027</td> <td>    0.739</td> <td> 0.460</td> <td>   -0.033</td> <td>    0.072</td>\n",
       "</tr>\n",
       "<tr>\n",
       "  <th>has_self_checkin</th>                                              <td>    0.1136</td> <td>    0.032</td> <td>    3.512</td> <td> 0.000</td> <td>    0.050</td> <td>    0.177</td>\n",
       "</tr>\n",
       "<tr>\n",
       "  <th>has_workspace</th>                                                 <td>    0.0713</td> <td>    0.018</td> <td>    4.028</td> <td> 0.000</td> <td>    0.037</td> <td>    0.106</td>\n",
       "</tr>\n",
       "<tr>\n",
       "  <th>has_bathtub</th>                                                   <td>    0.1097</td> <td>    0.032</td> <td>    3.415</td> <td> 0.001</td> <td>    0.047</td> <td>    0.173</td>\n",
       "</tr>\n",
       "<tr>\n",
       "  <th>has_longterm</th>                                                  <td>    0.0348</td> <td>    0.026</td> <td>    1.332</td> <td> 0.183</td> <td>   -0.016</td> <td>    0.086</td>\n",
       "</tr>\n",
       "<tr>\n",
       "  <th>has_parking</th>                                                   <td>    0.0684</td> <td>    0.034</td> <td>    2.030</td> <td> 0.042</td> <td>    0.002</td> <td>    0.134</td>\n",
       "</tr>\n",
       "<tr>\n",
       "  <th>has_garden</th>                                                    <td>    0.0570</td> <td>    0.034</td> <td>    1.676</td> <td> 0.094</td> <td>   -0.010</td> <td>    0.124</td>\n",
       "</tr>\n",
       "<tr>\n",
       "  <th>neighbourhood_cleansed_Bijlmer-Oost</th>                           <td>   -0.0508</td> <td>    0.151</td> <td>   -0.336</td> <td> 0.737</td> <td>   -0.347</td> <td>    0.245</td>\n",
       "</tr>\n",
       "<tr>\n",
       "  <th>neighbourhood_cleansed_Bos en Lommer</th>                          <td>    0.7063</td> <td>    0.110</td> <td>    6.398</td> <td> 0.000</td> <td>    0.490</td> <td>    0.923</td>\n",
       "</tr>\n",
       "<tr>\n",
       "  <th>neighbourhood_cleansed_Buitenveldert - Zuidas</th>                 <td>    0.7460</td> <td>    0.126</td> <td>    5.907</td> <td> 0.000</td> <td>    0.498</td> <td>    0.994</td>\n",
       "</tr>\n",
       "<tr>\n",
       "  <th>neighbourhood_cleansed_Centrum-Oost</th>                           <td>    1.5211</td> <td>    0.110</td> <td>   13.806</td> <td> 0.000</td> <td>    1.305</td> <td>    1.737</td>\n",
       "</tr>\n",
       "<tr>\n",
       "  <th>neighbourhood_cleansed_Centrum-West</th>                           <td>    1.7030</td> <td>    0.110</td> <td>   15.527</td> <td> 0.000</td> <td>    1.488</td> <td>    1.918</td>\n",
       "</tr>\n",
       "<tr>\n",
       "  <th>neighbourhood_cleansed_De Aker - Nieuw Sloten</th>                 <td>    0.2773</td> <td>    0.142</td> <td>    1.951</td> <td> 0.051</td> <td>   -0.001</td> <td>    0.556</td>\n",
       "</tr>\n",
       "<tr>\n",
       "  <th>neighbourhood_cleansed_De Baarsjes - Oud-West</th>                 <td>    1.0999</td> <td>    0.108</td> <td>   10.186</td> <td> 0.000</td> <td>    0.888</td> <td>    1.312</td>\n",
       "</tr>\n",
       "<tr>\n",
       "  <th>neighbourhood_cleansed_De Pijp - Rivierenbuurt</th>                <td>    1.2024</td> <td>    0.109</td> <td>   11.045</td> <td> 0.000</td> <td>    0.989</td> <td>    1.416</td>\n",
       "</tr>\n",
       "<tr>\n",
       "  <th>neighbourhood_cleansed_Gaasperdam - Driemond</th>                  <td>   -0.0184</td> <td>    0.140</td> <td>   -0.131</td> <td> 0.896</td> <td>   -0.294</td> <td>    0.257</td>\n",
       "</tr>\n",
       "<tr>\n",
       "  <th>neighbourhood_cleansed_Geuzenveld - Slotermeer</th>                <td>    0.4082</td> <td>    0.129</td> <td>    3.161</td> <td> 0.002</td> <td>    0.155</td> <td>    0.661</td>\n",
       "</tr>\n",
       "<tr>\n",
       "  <th>neighbourhood_cleansed_IJburg - Zeeburgereiland</th>               <td>    0.6543</td> <td>    0.118</td> <td>    5.530</td> <td> 0.000</td> <td>    0.422</td> <td>    0.886</td>\n",
       "</tr>\n",
       "<tr>\n",
       "  <th>neighbourhood_cleansed_Noord-Oost</th>                             <td>    0.2129</td> <td>    0.126</td> <td>    1.693</td> <td> 0.090</td> <td>   -0.034</td> <td>    0.459</td>\n",
       "</tr>\n",
       "<tr>\n",
       "  <th>neighbourhood_cleansed_Noord-West</th>                             <td>    0.2687</td> <td>    0.122</td> <td>    2.211</td> <td> 0.027</td> <td>    0.030</td> <td>    0.507</td>\n",
       "</tr>\n",
       "<tr>\n",
       "  <th>neighbourhood_cleansed_Oostelijk Havengebied - Indische Buurt</th> <td>    0.7754</td> <td>    0.111</td> <td>    6.965</td> <td> 0.000</td> <td>    0.557</td> <td>    0.994</td>\n",
       "</tr>\n",
       "<tr>\n",
       "  <th>neighbourhood_cleansed_Osdorp</th>                                 <td>    0.2544</td> <td>    0.134</td> <td>    1.899</td> <td> 0.058</td> <td>   -0.008</td> <td>    0.517</td>\n",
       "</tr>\n",
       "<tr>\n",
       "  <th>neighbourhood_cleansed_Oud-Noord</th>                              <td>    0.5821</td> <td>    0.115</td> <td>    5.058</td> <td> 0.000</td> <td>    0.357</td> <td>    0.808</td>\n",
       "</tr>\n",
       "<tr>\n",
       "  <th>neighbourhood_cleansed_Oud-Oost</th>                               <td>    1.0452</td> <td>    0.110</td> <td>    9.486</td> <td> 0.000</td> <td>    0.829</td> <td>    1.261</td>\n",
       "</tr>\n",
       "<tr>\n",
       "  <th>neighbourhood_cleansed_Slotervaart</th>                            <td>    0.5971</td> <td>    0.118</td> <td>    5.054</td> <td> 0.000</td> <td>    0.366</td> <td>    0.829</td>\n",
       "</tr>\n",
       "<tr>\n",
       "  <th>neighbourhood_cleansed_Watergraafsmeer</th>                        <td>    0.8106</td> <td>    0.116</td> <td>    7.014</td> <td> 0.000</td> <td>    0.584</td> <td>    1.037</td>\n",
       "</tr>\n",
       "<tr>\n",
       "  <th>neighbourhood_cleansed_Westerpark</th>                             <td>    1.0937</td> <td>    0.110</td> <td>    9.951</td> <td> 0.000</td> <td>    0.878</td> <td>    1.309</td>\n",
       "</tr>\n",
       "<tr>\n",
       "  <th>neighbourhood_cleansed_Zuid</th>                                   <td>    1.1577</td> <td>    0.110</td> <td>   10.485</td> <td> 0.000</td> <td>    0.941</td> <td>    1.374</td>\n",
       "</tr>\n",
       "<tr>\n",
       "  <th>property_type_Apartment</th>                                       <td>   -0.6916</td> <td>    0.681</td> <td>   -1.015</td> <td> 0.310</td> <td>   -2.027</td> <td>    0.644</td>\n",
       "</tr>\n",
       "<tr>\n",
       "  <th>property_type_Barn</th>                                            <td>   -0.8105</td> <td>    0.879</td> <td>   -0.922</td> <td> 0.356</td> <td>   -2.533</td> <td>    0.912</td>\n",
       "</tr>\n",
       "<tr>\n",
       "  <th>property_type_Bed and breakfast</th>                               <td>   -0.2741</td> <td>    0.683</td> <td>   -0.401</td> <td> 0.688</td> <td>   -1.614</td> <td>    1.065</td>\n",
       "</tr>\n",
       "<tr>\n",
       "  <th>property_type_Boat</th>                                            <td>   -0.2952</td> <td>    0.684</td> <td>   -0.432</td> <td> 0.666</td> <td>   -1.635</td> <td>    1.045</td>\n",
       "</tr>\n",
       "<tr>\n",
       "  <th>property_type_Boutique hotel</th>                                  <td>   -0.1840</td> <td>    0.710</td> <td>   -0.259</td> <td> 0.795</td> <td>   -1.575</td> <td>    1.207</td>\n",
       "</tr>\n",
       "<tr>\n",
       "  <th>property_type_Bungalow</th>                                        <td>   -0.5029</td> <td>    0.748</td> <td>   -0.673</td> <td> 0.501</td> <td>   -1.968</td> <td>    0.963</td>\n",
       "</tr>\n",
       "<tr>\n",
       "  <th>property_type_Cabin</th>                                           <td>   -0.5566</td> <td>    0.736</td> <td>   -0.756</td> <td> 0.450</td> <td>   -2.000</td> <td>    0.887</td>\n",
       "</tr>\n",
       "<tr>\n",
       "  <th>property_type_Campsite</th>                                        <td>   -1.1504</td> <td>    1.182</td> <td>   -0.973</td> <td> 0.331</td> <td>   -3.468</td> <td>    1.167</td>\n",
       "</tr>\n",
       "<tr>\n",
       "  <th>property_type_Casa particular (Cuba)</th>                          <td>   -0.9133</td> <td>    0.879</td> <td>   -1.040</td> <td> 0.299</td> <td>   -2.636</td> <td>    0.809</td>\n",
       "</tr>\n",
       "<tr>\n",
       "  <th>property_type_Castle</th>                                          <td>   -0.4740</td> <td>    1.178</td> <td>   -0.402</td> <td> 0.688</td> <td>   -2.784</td> <td>    1.836</td>\n",
       "</tr>\n",
       "<tr>\n",
       "  <th>property_type_Chalet</th>                                          <td>   -0.8824</td> <td>    0.880</td> <td>   -1.002</td> <td> 0.316</td> <td>   -2.608</td> <td>    0.843</td>\n",
       "</tr>\n",
       "<tr>\n",
       "  <th>property_type_Condominium</th>                                     <td>   -0.6544</td> <td>    0.684</td> <td>   -0.957</td> <td> 0.339</td> <td>   -1.995</td> <td>    0.686</td>\n",
       "</tr>\n",
       "<tr>\n",
       "  <th>property_type_Cottage</th>                                         <td>   -0.4714</td> <td>    0.741</td> <td>   -0.636</td> <td> 0.525</td> <td>   -1.924</td> <td>    0.981</td>\n",
       "</tr>\n",
       "<tr>\n",
       "  <th>property_type_Earth house</th>                                     <td>   -1.8691</td> <td>    1.178</td> <td>   -1.586</td> <td> 0.113</td> <td>   -4.179</td> <td>    0.441</td>\n",
       "</tr>\n",
       "<tr>\n",
       "  <th>property_type_Guest suite</th>                                     <td>   -0.6062</td> <td>    0.686</td> <td>   -0.883</td> <td> 0.377</td> <td>   -1.951</td> <td>    0.739</td>\n",
       "</tr>\n",
       "<tr>\n",
       "  <th>property_type_Guesthouse</th>                                      <td>   -0.3410</td> <td>    0.698</td> <td>   -0.488</td> <td> 0.625</td> <td>   -1.710</td> <td>    1.028</td>\n",
       "</tr>\n",
       "<tr>\n",
       "  <th>property_type_Hostel</th>                                          <td>   -0.0772</td> <td>    0.879</td> <td>   -0.088</td> <td> 0.930</td> <td>   -1.801</td> <td>    1.646</td>\n",
       "</tr>\n",
       "<tr>\n",
       "  <th>property_type_Hotel</th>                                           <td>   -0.2296</td> <td>    0.806</td> <td>   -0.285</td> <td> 0.776</td> <td>   -1.809</td> <td>    1.350</td>\n",
       "</tr>\n",
       "<tr>\n",
       "  <th>property_type_House</th>                                           <td>   -0.4797</td> <td>    0.682</td> <td>   -0.703</td> <td> 0.482</td> <td>   -1.817</td> <td>    0.857</td>\n",
       "</tr>\n",
       "<tr>\n",
       "  <th>property_type_Houseboat</th>                                       <td>   -0.1577</td> <td>    0.685</td> <td>   -0.230</td> <td> 0.818</td> <td>   -1.501</td> <td>    1.185</td>\n",
       "</tr>\n",
       "<tr>\n",
       "  <th>property_type_Loft</th>                                            <td>   -0.2710</td> <td>    0.683</td> <td>   -0.397</td> <td> 0.692</td> <td>   -1.611</td> <td>    1.069</td>\n",
       "</tr>\n",
       "<tr>\n",
       "  <th>property_type_Nature lodge</th>                                    <td>   -0.2847</td> <td>    1.181</td> <td>   -0.241</td> <td> 0.809</td> <td>   -2.599</td> <td>    2.029</td>\n",
       "</tr>\n",
       "<tr>\n",
       "  <th>property_type_Other</th>                                           <td>   -0.6674</td> <td>    0.701</td> <td>   -0.952</td> <td> 0.341</td> <td>   -2.041</td> <td>    0.706</td>\n",
       "</tr>\n",
       "<tr>\n",
       "  <th>property_type_Serviced apartment</th>                              <td>   -0.1487</td> <td>    0.697</td> <td>   -0.213</td> <td> 0.831</td> <td>   -1.515</td> <td>    1.217</td>\n",
       "</tr>\n",
       "<tr>\n",
       "  <th>property_type_Tiny house</th>                                      <td>   -1.1102</td> <td>    0.806</td> <td>   -1.377</td> <td> 0.169</td> <td>   -2.691</td> <td>    0.470</td>\n",
       "</tr>\n",
       "<tr>\n",
       "  <th>property_type_Townhouse</th>                                       <td>   -0.5035</td> <td>    0.683</td> <td>   -0.737</td> <td> 0.461</td> <td>   -1.842</td> <td>    0.835</td>\n",
       "</tr>\n",
       "<tr>\n",
       "  <th>property_type_Villa</th>                                           <td>    0.0163</td> <td>    0.714</td> <td>    0.023</td> <td> 0.982</td> <td>   -1.383</td> <td>    1.416</td>\n",
       "</tr>\n",
       "<tr>\n",
       "  <th>room_type_Private room</th>                                        <td>   -1.0328</td> <td>    0.024</td> <td>  -43.921</td> <td> 0.000</td> <td>   -1.079</td> <td>   -0.987</td>\n",
       "</tr>\n",
       "<tr>\n",
       "  <th>room_type_Shared room</th>                                         <td>   -1.3824</td> <td>    0.131</td> <td>  -10.525</td> <td> 0.000</td> <td>   -1.640</td> <td>   -1.125</td>\n",
       "</tr>\n",
       "<tr>\n",
       "  <th>bed_type_Couch</th>                                                <td>   -0.8055</td> <td>    0.619</td> <td>   -1.300</td> <td> 0.193</td> <td>   -2.019</td> <td>    0.409</td>\n",
       "</tr>\n",
       "<tr>\n",
       "  <th>bed_type_Futon</th>                                                <td>   -0.3133</td> <td>    0.304</td> <td>   -1.030</td> <td> 0.303</td> <td>   -0.910</td> <td>    0.283</td>\n",
       "</tr>\n",
       "<tr>\n",
       "  <th>bed_type_Pull-out Sofa</th>                                        <td>   -0.2080</td> <td>    0.281</td> <td>   -0.741</td> <td> 0.459</td> <td>   -0.758</td> <td>    0.342</td>\n",
       "</tr>\n",
       "<tr>\n",
       "  <th>bed_type_Real Bed</th>                                             <td>    0.0882</td> <td>    0.268</td> <td>    0.330</td> <td> 0.742</td> <td>   -0.436</td> <td>    0.613</td>\n",
       "</tr>\n",
       "<tr>\n",
       "  <th>cancellation_policy_moderate</th>                                  <td>    0.0764</td> <td>    0.021</td> <td>    3.599</td> <td> 0.000</td> <td>    0.035</td> <td>    0.118</td>\n",
       "</tr>\n",
       "<tr>\n",
       "  <th>cancellation_policy_strict_14_with_grace_period</th>               <td>    0.1636</td> <td>    0.022</td> <td>    7.563</td> <td> 0.000</td> <td>    0.121</td> <td>    0.206</td>\n",
       "</tr>\n",
       "<tr>\n",
       "  <th>cancellation_policy_super_strict_60</th>                           <td>    1.7828</td> <td>    0.269</td> <td>    6.621</td> <td> 0.000</td> <td>    1.255</td> <td>    2.311</td>\n",
       "</tr>\n",
       "</table>\n",
       "<table class=\"simpletable\">\n",
       "<tr>\n",
       "  <th>Omnibus:</th>       <td>214.486</td> <th>  Durbin-Watson:     </th> <td>   1.941</td>\n",
       "</tr>\n",
       "<tr>\n",
       "  <th>Prob(Omnibus):</th> <td> 0.000</td>  <th>  Jarque-Bera (JB):  </th> <td> 390.194</td>\n",
       "</tr>\n",
       "<tr>\n",
       "  <th>Skew:</th>          <td> 0.044</td>  <th>  Prob(JB):          </th> <td>1.86e-85</td>\n",
       "</tr>\n",
       "<tr>\n",
       "  <th>Kurtosis:</th>      <td> 3.759</td>  <th>  Cond. No.          </th> <td>1.05e+16</td>\n",
       "</tr>\n",
       "</table><br/><br/>Warnings:<br/>[1] Standard Errors assume that the covariance matrix of the errors is correctly specified.<br/>[2] The smallest eigenvalue is 6.58e-22. This might indicate that there are<br/>strong multicollinearity problems or that the design matrix is singular."
      ],
      "text/plain": [
       "<class 'statsmodels.iolib.summary.Summary'>\n",
       "\"\"\"\n",
       "                            OLS Regression Results                            \n",
       "==============================================================================\n",
       "Dep. Variable:                  price   R-squared:                       0.494\n",
       "Model:                            OLS   Adj. R-squared:                  0.492\n",
       "Method:                 Least Squares   F-statistic:                     181.5\n",
       "Date:                Thu, 25 Jun 2020   Prob (F-statistic):               0.00\n",
       "Time:                        00:36:33   Log-Likelihood:                -22095.\n",
       "No. Observations:               16059   AIC:                         4.436e+04\n",
       "Df Residuals:                   15972   BIC:                         4.503e+04\n",
       "Df Model:                          86                                         \n",
       "Covariance Type:            nonrobust                                         \n",
       "=================================================================================================================================\n",
       "                                                                    coef    std err          t      P>|t|      [0.025      0.975]\n",
       "---------------------------------------------------------------------------------------------------------------------------------\n",
       "const                                                             8.8062      0.803     10.969      0.000       7.233      10.380\n",
       "number_of_reviews                                                -0.0387      0.009     -4.090      0.000      -0.057      -0.020\n",
       "review_scores_rating                                              0.0853      0.009      9.784      0.000       0.068       0.102\n",
       "review_scores_location                                            0.0880      0.009      9.608      0.000       0.070       0.106\n",
       "combine_beds_bedrooms_acommodates                                 0.5385      0.009     59.810      0.000       0.521       0.556\n",
       "host_since                                                    -6.108e-06   1.32e-05     -0.462      0.644    -3.2e-05    1.98e-05\n",
       "host_is_superhost                                                 0.0950      0.023      4.189      0.000       0.051       0.139\n",
       "host_has_profile_pic                                             -0.1071      0.304     -0.352      0.725      -0.704       0.490\n",
       "host_identity_verified                                           -0.0365      0.017     -2.177      0.029      -0.069      -0.004\n",
       "is_location_exact                                                 0.0433      0.017      2.584      0.010       0.010       0.076\n",
       "instant_bookable                                                  0.0665      0.019      3.472      0.001       0.029       0.104\n",
       "is_business_travel_ready                                      -1.396e-14   9.87e-15     -1.414      0.157   -3.33e-14    5.39e-15\n",
       "require_guest_profile_picture                                     0.1597      0.104      1.534      0.125      -0.044       0.364\n",
       "require_guest_phone_verification                                 -0.0678      0.091     -0.742      0.458      -0.247       0.111\n",
       "has_tv                                                            0.2157      0.053      4.080      0.000       0.112       0.319\n",
       "has_fireplace                                                     0.3811      0.038     10.091      0.000       0.307       0.455\n",
       "has_kitchen                                                      -0.0650      0.032     -2.044      0.041      -0.127      -0.003\n",
       "has_family_friendly                                               0.0596      0.017      3.461      0.001       0.026       0.093\n",
       "has_host_greeting                                                 0.1399      0.018      7.889      0.000       0.105       0.175\n",
       "has_24hrs_checkin                                                 0.0670      0.026      2.573      0.010       0.016       0.118\n",
       "has_breakfast                                                     0.0400      0.031      1.298      0.194      -0.020       0.100\n",
       "has_pets                                                         -0.0993      0.033     -3.008      0.003      -0.164      -0.035\n",
       "has_dishwasher                                                    0.0695      0.027      2.603      0.009       0.017       0.122\n",
       "has_private_entrance                                              0.0716      0.018      3.879      0.000       0.035       0.108\n",
       "has_patio_balcony                                                 0.0197      0.027      0.739      0.460      -0.033       0.072\n",
       "has_self_checkin                                                  0.1136      0.032      3.512      0.000       0.050       0.177\n",
       "has_workspace                                                     0.0713      0.018      4.028      0.000       0.037       0.106\n",
       "has_bathtub                                                       0.1097      0.032      3.415      0.001       0.047       0.173\n",
       "has_longterm                                                      0.0348      0.026      1.332      0.183      -0.016       0.086\n",
       "has_parking                                                       0.0684      0.034      2.030      0.042       0.002       0.134\n",
       "has_garden                                                        0.0570      0.034      1.676      0.094      -0.010       0.124\n",
       "neighbourhood_cleansed_Bijlmer-Oost                              -0.0508      0.151     -0.336      0.737      -0.347       0.245\n",
       "neighbourhood_cleansed_Bos en Lommer                              0.7063      0.110      6.398      0.000       0.490       0.923\n",
       "neighbourhood_cleansed_Buitenveldert - Zuidas                     0.7460      0.126      5.907      0.000       0.498       0.994\n",
       "neighbourhood_cleansed_Centrum-Oost                               1.5211      0.110     13.806      0.000       1.305       1.737\n",
       "neighbourhood_cleansed_Centrum-West                               1.7030      0.110     15.527      0.000       1.488       1.918\n",
       "neighbourhood_cleansed_De Aker - Nieuw Sloten                     0.2773      0.142      1.951      0.051      -0.001       0.556\n",
       "neighbourhood_cleansed_De Baarsjes - Oud-West                     1.0999      0.108     10.186      0.000       0.888       1.312\n",
       "neighbourhood_cleansed_De Pijp - Rivierenbuurt                    1.2024      0.109     11.045      0.000       0.989       1.416\n",
       "neighbourhood_cleansed_Gaasperdam - Driemond                     -0.0184      0.140     -0.131      0.896      -0.294       0.257\n",
       "neighbourhood_cleansed_Geuzenveld - Slotermeer                    0.4082      0.129      3.161      0.002       0.155       0.661\n",
       "neighbourhood_cleansed_IJburg - Zeeburgereiland                   0.6543      0.118      5.530      0.000       0.422       0.886\n",
       "neighbourhood_cleansed_Noord-Oost                                 0.2129      0.126      1.693      0.090      -0.034       0.459\n",
       "neighbourhood_cleansed_Noord-West                                 0.2687      0.122      2.211      0.027       0.030       0.507\n",
       "neighbourhood_cleansed_Oostelijk Havengebied - Indische Buurt     0.7754      0.111      6.965      0.000       0.557       0.994\n",
       "neighbourhood_cleansed_Osdorp                                     0.2544      0.134      1.899      0.058      -0.008       0.517\n",
       "neighbourhood_cleansed_Oud-Noord                                  0.5821      0.115      5.058      0.000       0.357       0.808\n",
       "neighbourhood_cleansed_Oud-Oost                                   1.0452      0.110      9.486      0.000       0.829       1.261\n",
       "neighbourhood_cleansed_Slotervaart                                0.5971      0.118      5.054      0.000       0.366       0.829\n",
       "neighbourhood_cleansed_Watergraafsmeer                            0.8106      0.116      7.014      0.000       0.584       1.037\n",
       "neighbourhood_cleansed_Westerpark                                 1.0937      0.110      9.951      0.000       0.878       1.309\n",
       "neighbourhood_cleansed_Zuid                                       1.1577      0.110     10.485      0.000       0.941       1.374\n",
       "property_type_Apartment                                          -0.6916      0.681     -1.015      0.310      -2.027       0.644\n",
       "property_type_Barn                                               -0.8105      0.879     -0.922      0.356      -2.533       0.912\n",
       "property_type_Bed and breakfast                                  -0.2741      0.683     -0.401      0.688      -1.614       1.065\n",
       "property_type_Boat                                               -0.2952      0.684     -0.432      0.666      -1.635       1.045\n",
       "property_type_Boutique hotel                                     -0.1840      0.710     -0.259      0.795      -1.575       1.207\n",
       "property_type_Bungalow                                           -0.5029      0.748     -0.673      0.501      -1.968       0.963\n",
       "property_type_Cabin                                              -0.5566      0.736     -0.756      0.450      -2.000       0.887\n",
       "property_type_Campsite                                           -1.1504      1.182     -0.973      0.331      -3.468       1.167\n",
       "property_type_Casa particular (Cuba)                             -0.9133      0.879     -1.040      0.299      -2.636       0.809\n",
       "property_type_Castle                                             -0.4740      1.178     -0.402      0.688      -2.784       1.836\n",
       "property_type_Chalet                                             -0.8824      0.880     -1.002      0.316      -2.608       0.843\n",
       "property_type_Condominium                                        -0.6544      0.684     -0.957      0.339      -1.995       0.686\n",
       "property_type_Cottage                                            -0.4714      0.741     -0.636      0.525      -1.924       0.981\n",
       "property_type_Earth house                                        -1.8691      1.178     -1.586      0.113      -4.179       0.441\n",
       "property_type_Guest suite                                        -0.6062      0.686     -0.883      0.377      -1.951       0.739\n",
       "property_type_Guesthouse                                         -0.3410      0.698     -0.488      0.625      -1.710       1.028\n",
       "property_type_Hostel                                             -0.0772      0.879     -0.088      0.930      -1.801       1.646\n",
       "property_type_Hotel                                              -0.2296      0.806     -0.285      0.776      -1.809       1.350\n",
       "property_type_House                                              -0.4797      0.682     -0.703      0.482      -1.817       0.857\n",
       "property_type_Houseboat                                          -0.1577      0.685     -0.230      0.818      -1.501       1.185\n",
       "property_type_Loft                                               -0.2710      0.683     -0.397      0.692      -1.611       1.069\n",
       "property_type_Nature lodge                                       -0.2847      1.181     -0.241      0.809      -2.599       2.029\n",
       "property_type_Other                                              -0.6674      0.701     -0.952      0.341      -2.041       0.706\n",
       "property_type_Serviced apartment                                 -0.1487      0.697     -0.213      0.831      -1.515       1.217\n",
       "property_type_Tiny house                                         -1.1102      0.806     -1.377      0.169      -2.691       0.470\n",
       "property_type_Townhouse                                          -0.5035      0.683     -0.737      0.461      -1.842       0.835\n",
       "property_type_Villa                                               0.0163      0.714      0.023      0.982      -1.383       1.416\n",
       "room_type_Private room                                           -1.0328      0.024    -43.921      0.000      -1.079      -0.987\n",
       "room_type_Shared room                                            -1.3824      0.131    -10.525      0.000      -1.640      -1.125\n",
       "bed_type_Couch                                                   -0.8055      0.619     -1.300      0.193      -2.019       0.409\n",
       "bed_type_Futon                                                   -0.3133      0.304     -1.030      0.303      -0.910       0.283\n",
       "bed_type_Pull-out Sofa                                           -0.2080      0.281     -0.741      0.459      -0.758       0.342\n",
       "bed_type_Real Bed                                                 0.0882      0.268      0.330      0.742      -0.436       0.613\n",
       "cancellation_policy_moderate                                      0.0764      0.021      3.599      0.000       0.035       0.118\n",
       "cancellation_policy_strict_14_with_grace_period                   0.1636      0.022      7.563      0.000       0.121       0.206\n",
       "cancellation_policy_super_strict_60                               1.7828      0.269      6.621      0.000       1.255       2.311\n",
       "==============================================================================\n",
       "Omnibus:                      214.486   Durbin-Watson:                   1.941\n",
       "Prob(Omnibus):                  0.000   Jarque-Bera (JB):              390.194\n",
       "Skew:                           0.044   Prob(JB):                     1.86e-85\n",
       "Kurtosis:                       3.759   Cond. No.                     1.05e+16\n",
       "==============================================================================\n",
       "\n",
       "Warnings:\n",
       "[1] Standard Errors assume that the covariance matrix of the errors is correctly specified.\n",
       "[2] The smallest eigenvalue is 6.58e-22. This might indicate that there are\n",
       "strong multicollinearity problems or that the design matrix is singular.\n",
       "\"\"\""
      ]
     },
     "execution_count": 49,
     "metadata": {},
     "output_type": "execute_result"
    }
   ],
   "source": [
    "#import statsmodel library\n",
    "import statsmodels.api as sm\n",
    "\n",
    "#set response column and df to use\n",
    "response_col = 'price'\n",
    "df_to_use_ols = df_model_merged\n",
    "\n",
    "# set X matrix and y \n",
    "X = df_to_use_ols.drop(response_col, axis=1)\n",
    "X = sm.add_constant(X)\n",
    "y = df_to_use_ols[response_col]\n",
    "\n",
    "# fit and predict\n",
    "est = sm.OLS(y.astype(float), X.astype(float)).fit()\n",
    "ypred = est.predict(X)\n",
    "\n",
    "# evaluate\n",
    "rmse = np.sqrt(mean_squared_error(y, ypred))\n",
    "print(rmse)\n",
    "\n",
    "# show stats summary\n",
    "est.summary()\n"
   ]
  },
  {
   "cell_type": "markdown",
   "execution_count": null,
   "metadata": {},
   "source": [
    "# Implement RandomForestRegressor"
   ]
  },
  {
   "cell_type": "code",
   "execution_count": 50,
   "metadata": {},
   "outputs": [
    {
     "name": "stdout",
     "output_type": "stream",
     "text": [
      "The R2 score:  0.35074063108308107\n",
      "Number of predictions: 16059\n",
      "MSE: 1.177719511150194\n",
      "RMSE: 1.0852278613960267\n"
     ]
    }
   ],
   "source": [
    "from sklearn.ensemble import RandomForestRegressor\n",
    "\n",
    "regr = RandomForestRegressor(max_depth=2, random_state=0)\n",
    "\n",
    "response_col = 'price'\n",
    "df_rfr_to_use = df_model_merged\n",
    "\n",
    "X = df_rfr_to_use.drop(response_col, axis=1)\n",
    "y = df_rfr_to_use[response_col]\n",
    "regr.fit(X, y)\n",
    "modelPred = regr.predict(X)\n",
    "\n",
    "print(\"The R2 score: \",regr.score(X,y))\n",
    "\n",
    "print(\"Number of predictions:\",len(modelPred))\n",
    "\n",
    "meanSquaredError=mean_squared_error(y, modelPred)\n",
    "print(\"MSE:\", meanSquaredError)\n",
    "rootMeanSquaredError = np.sqrt(meanSquaredError)\n",
    "print(\"RMSE:\", rootMeanSquaredError)\n"
   ]
  },
  {
   "cell_type": "markdown",
   "execution_count": null,
   "metadata": {},
   "source": [
    "# Implement H2O AutoML solution"
   ]
  },
  {
   "cell_type": "code",
   "execution_count": 51,
   "metadata": {},
   "outputs": [
    {
     "name": "stdout",
     "output_type": "stream",
     "text": [
      "Checking whether there is an H2O instance running at http://localhost:54321 ..... not found.\n",
      "Attempting to start a local H2O server...\n",
      "  Java Version: openjdk version \"11.0.7\" 2020-04-14; OpenJDK Runtime Environment (build 11.0.7+10-post-Ubuntu-2ubuntu218.04); OpenJDK 64-Bit Server VM (build 11.0.7+10-post-Ubuntu-2ubuntu218.04, mixed mode, sharing)\n",
      "  Starting server from /opt/conda/lib/python3.7/site-packages/h2o/backend/bin/h2o.jar\n",
      "  Ice root: /tmp/tmpu_n4og26\n",
      "  JVM stdout: /tmp/tmpu_n4og26/h2o_unknownUser_started_from_python.out\n",
      "  JVM stderr: /tmp/tmpu_n4og26/h2o_unknownUser_started_from_python.err\n",
      "  Server is running at http://127.0.0.1:54321\n",
      "Connecting to H2O server at http://127.0.0.1:54321 ... successful.\n"
     ]
    },
    {
     "data": {
      "text/html": [
       "<div style=\"overflow:auto\"><table style=\"width:50%\"><tr><td>H2O_cluster_uptime:</td>\n",
       "<td>02 secs</td></tr>\n",
       "<tr><td>H2O_cluster_timezone:</td>\n",
       "<td>Etc/UTC</td></tr>\n",
       "<tr><td>H2O_data_parsing_timezone:</td>\n",
       "<td>UTC</td></tr>\n",
       "<tr><td>H2O_cluster_version:</td>\n",
       "<td>3.30.0.4</td></tr>\n",
       "<tr><td>H2O_cluster_version_age:</td>\n",
       "<td>23 days </td></tr>\n",
       "<tr><td>H2O_cluster_name:</td>\n",
       "<td>H2O_from_python_unknownUser_tobh81</td></tr>\n",
       "<tr><td>H2O_cluster_total_nodes:</td>\n",
       "<td>1</td></tr>\n",
       "<tr><td>H2O_cluster_free_memory:</td>\n",
       "<td>4 Gb</td></tr>\n",
       "<tr><td>H2O_cluster_total_cores:</td>\n",
       "<td>4</td></tr>\n",
       "<tr><td>H2O_cluster_allowed_cores:</td>\n",
       "<td>4</td></tr>\n",
       "<tr><td>H2O_cluster_status:</td>\n",
       "<td>accepting new members, healthy</td></tr>\n",
       "<tr><td>H2O_connection_url:</td>\n",
       "<td>http://127.0.0.1:54321</td></tr>\n",
       "<tr><td>H2O_connection_proxy:</td>\n",
       "<td>{\"http\": null, \"https\": null}</td></tr>\n",
       "<tr><td>H2O_internal_security:</td>\n",
       "<td>False</td></tr>\n",
       "<tr><td>H2O_API_Extensions:</td>\n",
       "<td>Amazon S3, XGBoost, Algos, AutoML, Core V3, TargetEncoder, Core V4</td></tr>\n",
       "<tr><td>Python_version:</td>\n",
       "<td>3.7.6 final</td></tr></table></div>"
      ],
      "text/plain": [
       "--------------------------  ------------------------------------------------------------------\n",
       "H2O_cluster_uptime:         02 secs\n",
       "H2O_cluster_timezone:       Etc/UTC\n",
       "H2O_data_parsing_timezone:  UTC\n",
       "H2O_cluster_version:        3.30.0.4\n",
       "H2O_cluster_version_age:    23 days\n",
       "H2O_cluster_name:           H2O_from_python_unknownUser_tobh81\n",
       "H2O_cluster_total_nodes:    1\n",
       "H2O_cluster_free_memory:    4 Gb\n",
       "H2O_cluster_total_cores:    4\n",
       "H2O_cluster_allowed_cores:  4\n",
       "H2O_cluster_status:         accepting new members, healthy\n",
       "H2O_connection_url:         http://127.0.0.1:54321\n",
       "H2O_connection_proxy:       {\"http\": null, \"https\": null}\n",
       "H2O_internal_security:      False\n",
       "H2O_API_Extensions:         Amazon S3, XGBoost, Algos, AutoML, Core V3, TargetEncoder, Core V4\n",
       "Python_version:             3.7.6 final\n",
       "--------------------------  ------------------------------------------------------------------"
      ]
     },
     "metadata": {},
     "output_type": "display_data"
    },
    {
     "name": "stdout",
     "output_type": "stream",
     "text": [
      "Parse progress: |█████████████████████████████████████████████████████████| 100%\n"
     ]
    }
   ],
   "source": [
    "#https://docs.h2o.ai/h2o/latest-stable/h2o-docs/automl.html\n",
    "# tutorial: https://github.com/h2oai/h2o-tutorials/blob/master/h2o-world-2017/automl/Python/automl_binary_classification_product_backorders.ipynb\n",
    "\n",
    "import h2o\n",
    "from h2o.automl import H2OAutoML\n",
    "h2o.init()\n",
    "\n",
    "df_h2o_to_use = df_model_merged\n",
    "\n",
    "# Identify predictors and response\n",
    "x = df.columns.tolist()\n",
    "y = \"price\"\n",
    "x = x.remove(y)\n",
    "\n",
    "df_model_h2o = h2o.H2OFrame(df_h2o_to_use)\n"
   ]
  },
  {
   "cell_type": "code",
   "execution_count": 52,
   "metadata": {},
   "outputs": [
    {
     "name": "stdout",
     "output_type": "stream",
     "text": [
      "AutoML progress: |████████████████████████████████████████████████████████| 100%\n"
     ]
    },
    {
     "data": {
      "text/html": [
       "<table>\n",
       "<thead>\n",
       "<tr><th>model_id                                           </th><th style=\"text-align: right;\">  mean_residual_deviance</th><th style=\"text-align: right;\">    rmse</th><th style=\"text-align: right;\">     mse</th><th style=\"text-align: right;\">     mae</th><th style=\"text-align: right;\">    rmsle</th></tr>\n",
       "</thead>\n",
       "<tbody>\n",
       "<tr><td>StackedEnsemble_AllModels_AutoML_20200625_003646   </td><td style=\"text-align: right;\">                0.895009</td><td style=\"text-align: right;\">0.946049</td><td style=\"text-align: right;\">0.895009</td><td style=\"text-align: right;\">0.738556</td><td style=\"text-align: right;\">0.091517 </td></tr>\n",
       "<tr><td>StackedEnsemble_BestOfFamily_AutoML_20200625_003646</td><td style=\"text-align: right;\">                0.895997</td><td style=\"text-align: right;\">0.946571</td><td style=\"text-align: right;\">0.895997</td><td style=\"text-align: right;\">0.739257</td><td style=\"text-align: right;\">0.0915679</td></tr>\n",
       "<tr><td>GBM_grid__1_AutoML_20200625_003646_model_1         </td><td style=\"text-align: right;\">                0.900758</td><td style=\"text-align: right;\">0.949083</td><td style=\"text-align: right;\">0.900758</td><td style=\"text-align: right;\">0.742087</td><td style=\"text-align: right;\">0.0918195</td></tr>\n",
       "<tr><td>GBM_1_AutoML_20200625_003646                       </td><td style=\"text-align: right;\">                0.901634</td><td style=\"text-align: right;\">0.949544</td><td style=\"text-align: right;\">0.901634</td><td style=\"text-align: right;\">0.742309</td><td style=\"text-align: right;\">0.0919484</td></tr>\n",
       "<tr><td>GBM_3_AutoML_20200625_003646                       </td><td style=\"text-align: right;\">                0.902059</td><td style=\"text-align: right;\">0.949768</td><td style=\"text-align: right;\">0.902059</td><td style=\"text-align: right;\">0.742114</td><td style=\"text-align: right;\">0.0919485</td></tr>\n",
       "<tr><td>GBM_2_AutoML_20200625_003646                       </td><td style=\"text-align: right;\">                0.903343</td><td style=\"text-align: right;\">0.950444</td><td style=\"text-align: right;\">0.903343</td><td style=\"text-align: right;\">0.742069</td><td style=\"text-align: right;\">0.0919694</td></tr>\n",
       "<tr><td>GBM_5_AutoML_20200625_003646                       </td><td style=\"text-align: right;\">                0.906222</td><td style=\"text-align: right;\">0.951957</td><td style=\"text-align: right;\">0.906222</td><td style=\"text-align: right;\">0.742408</td><td style=\"text-align: right;\">0.092332 </td></tr>\n",
       "<tr><td>XGBoost_grid__1_AutoML_20200625_003646_model_3     </td><td style=\"text-align: right;\">                0.906398</td><td style=\"text-align: right;\">0.952049</td><td style=\"text-align: right;\">0.906398</td><td style=\"text-align: right;\">0.744102</td><td style=\"text-align: right;\">0.0921863</td></tr>\n",
       "<tr><td>XGBoost_grid__1_AutoML_20200625_003646_model_4     </td><td style=\"text-align: right;\">                0.908583</td><td style=\"text-align: right;\">0.953196</td><td style=\"text-align: right;\">0.908583</td><td style=\"text-align: right;\">0.744957</td><td style=\"text-align: right;\">0.0922579</td></tr>\n",
       "<tr><td>GBM_grid__1_AutoML_20200625_003646_model_2         </td><td style=\"text-align: right;\">                0.912297</td><td style=\"text-align: right;\">0.955143</td><td style=\"text-align: right;\">0.912297</td><td style=\"text-align: right;\">0.746437</td><td style=\"text-align: right;\">0.0924925</td></tr>\n",
       "<tr><td>GBM_4_AutoML_20200625_003646                       </td><td style=\"text-align: right;\">                0.912622</td><td style=\"text-align: right;\">0.955313</td><td style=\"text-align: right;\">0.912622</td><td style=\"text-align: right;\">0.745408</td><td style=\"text-align: right;\">0.0923872</td></tr>\n",
       "<tr><td>XGBoost_3_AutoML_20200625_003646                   </td><td style=\"text-align: right;\">                0.918712</td><td style=\"text-align: right;\">0.958495</td><td style=\"text-align: right;\">0.918712</td><td style=\"text-align: right;\">0.748576</td><td style=\"text-align: right;\">0.0928623</td></tr>\n",
       "<tr><td>XGBoost_grid__1_AutoML_20200625_003646_model_1     </td><td style=\"text-align: right;\">                0.923289</td><td style=\"text-align: right;\">0.96088 </td><td style=\"text-align: right;\">0.923289</td><td style=\"text-align: right;\">0.751479</td><td style=\"text-align: right;\">0.0930079</td></tr>\n",
       "<tr><td>GLM_1_AutoML_20200625_003646                       </td><td style=\"text-align: right;\">                0.930052</td><td style=\"text-align: right;\">0.964392</td><td style=\"text-align: right;\">0.930052</td><td style=\"text-align: right;\">0.755053</td><td style=\"text-align: right;\">0.0933225</td></tr>\n",
       "<tr><td>XRT_1_AutoML_20200625_003646                       </td><td style=\"text-align: right;\">                0.942078</td><td style=\"text-align: right;\">0.970607</td><td style=\"text-align: right;\">0.942078</td><td style=\"text-align: right;\">0.75844 </td><td style=\"text-align: right;\">0.0939002</td></tr>\n",
       "<tr><td>DRF_1_AutoML_20200625_003646                       </td><td style=\"text-align: right;\">                0.94524 </td><td style=\"text-align: right;\">0.972235</td><td style=\"text-align: right;\">0.94524 </td><td style=\"text-align: right;\">0.759265</td><td style=\"text-align: right;\">0.0940564</td></tr>\n",
       "<tr><td>DeepLearning_1_AutoML_20200625_003646              </td><td style=\"text-align: right;\">                0.957753</td><td style=\"text-align: right;\">0.978648</td><td style=\"text-align: right;\">0.957753</td><td style=\"text-align: right;\">0.766923</td><td style=\"text-align: right;\">0.094631 </td></tr>\n",
       "<tr><td>DeepLearning_grid__1_AutoML_20200625_003646_model_1</td><td style=\"text-align: right;\">                0.963445</td><td style=\"text-align: right;\">0.981552</td><td style=\"text-align: right;\">0.963445</td><td style=\"text-align: right;\">0.768562</td><td style=\"text-align: right;\">0.095586 </td></tr>\n",
       "<tr><td>XGBoost_1_AutoML_20200625_003646                   </td><td style=\"text-align: right;\">                1.00589 </td><td style=\"text-align: right;\">1.00294 </td><td style=\"text-align: right;\">1.00589 </td><td style=\"text-align: right;\">0.783741</td><td style=\"text-align: right;\">0.0969141</td></tr>\n",
       "<tr><td>DeepLearning_grid__2_AutoML_20200625_003646_model_1</td><td style=\"text-align: right;\">                1.01593 </td><td style=\"text-align: right;\">1.00793 </td><td style=\"text-align: right;\">1.01593 </td><td style=\"text-align: right;\">0.792971</td><td style=\"text-align: right;\">0.0968385</td></tr>\n",
       "<tr><td>XGBoost_2_AutoML_20200625_003646                   </td><td style=\"text-align: right;\">                1.07575 </td><td style=\"text-align: right;\">1.03719 </td><td style=\"text-align: right;\">1.07575 </td><td style=\"text-align: right;\">0.810199</td><td style=\"text-align: right;\">0.100276 </td></tr>\n",
       "<tr><td>XGBoost_grid__1_AutoML_20200625_003646_model_2     </td><td style=\"text-align: right;\">                1.29116 </td><td style=\"text-align: right;\">1.13629 </td><td style=\"text-align: right;\">1.29116 </td><td style=\"text-align: right;\">0.890389</td><td style=\"text-align: right;\">0.109881 </td></tr>\n",
       "</tbody>\n",
       "</table>"
      ]
     },
     "metadata": {},
     "output_type": "display_data"
    },
    {
     "data": {
      "text/plain": []
     },
     "execution_count": 52,
     "metadata": {},
     "output_type": "execute_result"
    }
   ],
   "source": [
    "# Run AutoML for 20 base models (limited to 1 hour max runtime by default)\n",
    "aml = H2OAutoML(max_models=20, seed=1)\n",
    "aml.train(x=x, y=y, training_frame=df_model_h2o)\n",
    "\n",
    "# View the AutoML Leaderboard\n",
    "lb = aml.leaderboard\n",
    "lb.head(rows=lb.nrows)  # Print all rows instead of default (10 rows)"
   ]
  }
 ],
 "metadata": {
  "kernelspec": {
   "display_name": "Python 3",
   "language": "python",
   "name": "python3"
  },
  "language_info": {
   "codemirror_mode": {
    "name": "ipython",
    "version": 3
   },
   "file_extension": ".py",
   "mimetype": "text/x-python",
   "name": "python",
   "nbconvert_exporter": "python",
   "pygments_lexer": "ipython3",
   "version": "3.7.6"
  }
 },
 "nbformat": 4,
 "nbformat_minor": 4
}
